{
 "cells": [
  {
   "cell_type": "markdown",
   "id": "57dd8135",
   "metadata": {},
   "source": [
    "# 제목 작성하는 법\n",
    "\n",
    "#&nbsp;제목 작성하는 법"
   ]
  },
  {
   "cell_type": "markdown",
   "id": "2299d20c",
   "metadata": {},
   "source": [
    "## 화면에 출력하기\n",
    "print() 를 사용하면 화면에 () 안의 내용을 출력한다."
   ]
  },
  {
   "cell_type": "code",
   "execution_count": 1,
   "id": "c517a20b",
   "metadata": {},
   "outputs": [
    {
     "name": "stdout",
     "output_type": "stream",
     "text": [
      "123123123\n"
     ]
    }
   ],
   "source": [
    "print(123123123)"
   ]
  },
  {
   "cell_type": "code",
   "execution_count": 2,
   "id": "fe0e29b9",
   "metadata": {},
   "outputs": [
    {
     "name": "stdout",
     "output_type": "stream",
     "text": [
      "안녕하세요.\n"
     ]
    }
   ],
   "source": [
    "print(\"안녕하세요.\")"
   ]
  },
  {
   "cell_type": "markdown",
   "id": "594771ff",
   "metadata": {},
   "source": [
    "# 변수\n",
    "\n",
    "변수는 값을 저장할 수 있는 메모리의 공간이다.  \n",
    "#### 변수명=값\n",
    "처럼 사용한다.  \n",
    "값을 저장한 변수에는 값의 종류에 따라 타입이 정해지는데 타입에는 기본적으로 정수, 실수, 문자열, 논리형이 있다. 그 외에 더 있다."
   ]
  },
  {
   "cell_type": "markdown",
   "id": "7154fdef",
   "metadata": {},
   "source": [
    "# 변수 이름 짓는 법\n",
    "\n",
    "1. 특수문자는 사용 금지, ( _ 는 사용 가능)\n",
    "      \n",
    "2. 숫자로 시작 금지  \n",
    "   변수 이름은 문자로 먼저 시작해야 함\n",
    "   \n",
    "3. 변수 이름에 띄어쓰기 금지 ex) var_1, var_2\n",
    "\n",
    "4. 파이썬은 대소문자를 구분하기때문에 var1과 VAR1는 서로 다른 변수\n",
    "\n",
    "5. 예약어는 사용 금지 ex) if, for, while"
   ]
  },
  {
   "cell_type": "code",
   "execution_count": 4,
   "id": "12f86554",
   "metadata": {},
   "outputs": [],
   "source": [
    "var1=10\n",
    "var2=15.4\n",
    "var3=\"Hello World\"\n",
    "var4=True"
   ]
  },
  {
   "cell_type": "markdown",
   "id": "69cd6558",
   "metadata": {},
   "source": [
    "# 변수의 타입 확인\n",
    "\n",
    "#### type(변수이름)\n",
    "type() 으로 확인 가능"
   ]
  },
  {
   "cell_type": "code",
   "execution_count": 7,
   "id": "e51fbe7a",
   "metadata": {},
   "outputs": [
    {
     "data": {
      "text/plain": [
       "int"
      ]
     },
     "execution_count": 7,
     "metadata": {},
     "output_type": "execute_result"
    }
   ],
   "source": [
    "type(var1)"
   ]
  },
  {
   "cell_type": "code",
   "execution_count": 8,
   "id": "d9db1a8d",
   "metadata": {},
   "outputs": [
    {
     "data": {
      "text/plain": [
       "float"
      ]
     },
     "execution_count": 8,
     "metadata": {},
     "output_type": "execute_result"
    }
   ],
   "source": [
    "type(var2)"
   ]
  },
  {
   "cell_type": "code",
   "execution_count": 9,
   "id": "26cac00d",
   "metadata": {},
   "outputs": [
    {
     "data": {
      "text/plain": [
       "str"
      ]
     },
     "execution_count": 9,
     "metadata": {},
     "output_type": "execute_result"
    }
   ],
   "source": [
    "type(var3)"
   ]
  },
  {
   "cell_type": "code",
   "execution_count": 10,
   "id": "0b3f8a52",
   "metadata": {},
   "outputs": [
    {
     "data": {
      "text/plain": [
       "bool"
      ]
     },
     "execution_count": 10,
     "metadata": {},
     "output_type": "execute_result"
    }
   ],
   "source": [
    "type(var4)"
   ]
  },
  {
   "cell_type": "markdown",
   "id": "6cd84151",
   "metadata": {},
   "source": [
    "# 변수에 저장된 값 사용\n",
    "변수의 이름 입력"
   ]
  },
  {
   "cell_type": "code",
   "execution_count": 11,
   "id": "58968adc",
   "metadata": {},
   "outputs": [
    {
     "name": "stdout",
     "output_type": "stream",
     "text": [
      "10\n"
     ]
    }
   ],
   "source": [
    "print(var1)"
   ]
  },
  {
   "cell_type": "markdown",
   "id": "2191a7f3",
   "metadata": {},
   "source": [
    "# 변수의 재사용\n",
    "이미 만든 변수 이름에 새로운 값을 저장\n",
    "\n",
    "이미만든변수=값"
   ]
  },
  {
   "cell_type": "code",
   "execution_count": 12,
   "id": "d2ef6903",
   "metadata": {},
   "outputs": [],
   "source": [
    "var1=20"
   ]
  },
  {
   "cell_type": "code",
   "execution_count": 13,
   "id": "4c22cee1",
   "metadata": {},
   "outputs": [
    {
     "name": "stdout",
     "output_type": "stream",
     "text": [
      "20\n"
     ]
    }
   ],
   "source": [
    "print(var1)"
   ]
  },
  {
   "cell_type": "code",
   "execution_count": 14,
   "id": "ca094785",
   "metadata": {},
   "outputs": [],
   "source": [
    "var1_1=var1"
   ]
  },
  {
   "cell_type": "code",
   "execution_count": 15,
   "id": "e3c571bf",
   "metadata": {},
   "outputs": [],
   "source": [
    "var1=30"
   ]
  },
  {
   "cell_type": "code",
   "execution_count": 16,
   "id": "5e44c62a",
   "metadata": {},
   "outputs": [
    {
     "name": "stdout",
     "output_type": "stream",
     "text": [
      "20\n"
     ]
    }
   ],
   "source": [
    "print(var1_1)"
   ]
  },
  {
   "cell_type": "code",
   "execution_count": 17,
   "id": "a981ea8c",
   "metadata": {},
   "outputs": [
    {
     "name": "stdout",
     "output_type": "stream",
     "text": [
      "30\n"
     ]
    }
   ],
   "source": [
    "print(var1)"
   ]
  },
  {
   "cell_type": "markdown",
   "id": "dffa1ed0",
   "metadata": {},
   "source": [
    "# 두 변수의 수를 바꾸는 프로그램\n",
    "\n",
    "num1=10  \n",
    "num2=20\n",
    "\n",
    "숫자를 직접 입력하는 것 금지"
   ]
  },
  {
   "cell_type": "markdown",
   "id": "af25f6b8",
   "metadata": {},
   "source": [
    "# 풀이"
   ]
  },
  {
   "cell_type": "code",
   "execution_count": 19,
   "id": "e4bf9612",
   "metadata": {},
   "outputs": [],
   "source": [
    "num1=10"
   ]
  },
  {
   "cell_type": "code",
   "execution_count": 20,
   "id": "c28501d8",
   "metadata": {},
   "outputs": [],
   "source": [
    "num2=20"
   ]
  },
  {
   "cell_type": "code",
   "execution_count": 21,
   "id": "fad9ac40",
   "metadata": {},
   "outputs": [],
   "source": [
    "tmp=num1"
   ]
  },
  {
   "cell_type": "code",
   "execution_count": 22,
   "id": "ac6812b7",
   "metadata": {},
   "outputs": [],
   "source": [
    "num1=num2"
   ]
  },
  {
   "cell_type": "code",
   "execution_count": 23,
   "id": "e74c4988",
   "metadata": {},
   "outputs": [],
   "source": [
    "num2=tmp"
   ]
  },
  {
   "cell_type": "code",
   "execution_count": 24,
   "id": "02267677",
   "metadata": {},
   "outputs": [
    {
     "name": "stdout",
     "output_type": "stream",
     "text": [
      "20\n"
     ]
    }
   ],
   "source": [
    "print(num1)"
   ]
  },
  {
   "cell_type": "code",
   "execution_count": 25,
   "id": "a215915a",
   "metadata": {},
   "outputs": [
    {
     "name": "stdout",
     "output_type": "stream",
     "text": [
      "10\n"
     ]
    }
   ],
   "source": [
    "print(num2)"
   ]
  }
 ],
 "metadata": {
  "kernelspec": {
   "display_name": "Python 3",
   "language": "python",
   "name": "python3"
  },
  "language_info": {
   "codemirror_mode": {
    "name": "ipython",
    "version": 3
   },
   "file_extension": ".py",
   "mimetype": "text/x-python",
   "name": "python",
   "nbconvert_exporter": "python",
   "pygments_lexer": "ipython3",
   "version": "3.8.8"
  }
 },
 "nbformat": 4,
 "nbformat_minor": 5
}
