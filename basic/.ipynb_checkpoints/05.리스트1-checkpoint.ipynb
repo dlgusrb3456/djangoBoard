{
 "cells": [
  {
   "cell_type": "markdown",
   "id": "a644f490",
   "metadata": {},
   "source": [
    "# 파이썬 조합 데이터 타입\n",
    "\n",
    "\n",
    "1. 리스트\n",
    "2. 딕셔너리\n",
    "3. 튜플\n",
    "4. 세트"
   ]
  },
  {
   "cell_type": "markdown",
   "id": "d0aa85a4",
   "metadata": {},
   "source": [
    "# 리스트\n",
    "\n",
    "파이썬에서 리스트는 대괄호([])로 감싸서 선언할 수 있으며, 리스트 안의 요소(element)들은 쉼표(,)로 구분\n",
    "\n",
    "    리스트명 = [요소1, 요소2, 요소3...]\n",
    "    변수 = [값1, 값2, 값3...]"
   ]
  },
  {
   "cell_type": "code",
   "execution_count": 1,
   "id": "9b0ff8ed",
   "metadata": {},
   "outputs": [],
   "source": [
    "list1 = [10, 15.4, \"Hello\", True]   # 각 저장하는 값들의 타입이 꼭 같을 필요는 없다."
   ]
  },
  {
   "cell_type": "code",
   "execution_count": 2,
   "id": "410dc0d6",
   "metadata": {},
   "outputs": [],
   "source": [
    "list2 = [10, 20, 30, 40, 50]"
   ]
  },
  {
   "cell_type": "code",
   "execution_count": 3,
   "id": "b535dac2",
   "metadata": {},
   "outputs": [
    {
     "name": "stdout",
     "output_type": "stream",
     "text": [
      "[10, 15.4, 'Hello', True]\n"
     ]
    }
   ],
   "source": [
    "print(list1)"
   ]
  },
  {
   "cell_type": "code",
   "execution_count": 4,
   "id": "e7abd119",
   "metadata": {},
   "outputs": [
    {
     "name": "stdout",
     "output_type": "stream",
     "text": [
      "[10, 20, 30, 40, 50]\n"
     ]
    }
   ],
   "source": [
    "print(list2)"
   ]
  },
  {
   "cell_type": "markdown",
   "id": "11f36e35",
   "metadata": {},
   "source": [
    "### 리스트에서 하나의 값만 가져올 때\n",
    "\n",
    "리스트명[순서번호]  \n",
    "순서 번호는 0부터 시작한다."
   ]
  },
  {
   "cell_type": "code",
   "execution_count": 5,
   "id": "924f2ebd",
   "metadata": {},
   "outputs": [
    {
     "name": "stdout",
     "output_type": "stream",
     "text": [
      "30\n"
     ]
    }
   ],
   "source": [
    "print(list2[2])"
   ]
  },
  {
   "cell_type": "code",
   "execution_count": 6,
   "id": "5407c77e",
   "metadata": {},
   "outputs": [
    {
     "name": "stdout",
     "output_type": "stream",
     "text": [
      "15.4\n"
     ]
    }
   ],
   "source": [
    "print(list1[1])"
   ]
  },
  {
   "cell_type": "markdown",
   "id": "15d15e4f",
   "metadata": {},
   "source": [
    "### 리스트에서 특정 부분을 가져올 때\n",
    "\n",
    "하나의 값이 아니라 여러 값을 동시에 가져올 때\n",
    "\n",
    "리스트명[시작번호:끝번호+1]"
   ]
  },
  {
   "cell_type": "code",
   "execution_count": 8,
   "id": "233dd5a4",
   "metadata": {},
   "outputs": [
    {
     "name": "stdout",
     "output_type": "stream",
     "text": [
      "['Hello', True]\n"
     ]
    }
   ],
   "source": [
    "print(list1[2:4])"
   ]
  },
  {
   "cell_type": "code",
   "execution_count": 20,
   "id": "7399e06b",
   "metadata": {},
   "outputs": [],
   "source": [
    "list3 = [1,2,3,4,5,6,7,8,9,10]"
   ]
  },
  {
   "cell_type": "code",
   "execution_count": 11,
   "id": "6bad7d63",
   "metadata": {},
   "outputs": [
    {
     "name": "stdout",
     "output_type": "stream",
     "text": [
      "[5, 6, 7, 8]\n"
     ]
    }
   ],
   "source": [
    "print(list3[4:8])   # [5,6,7,8]"
   ]
  },
  {
   "cell_type": "code",
   "execution_count": 13,
   "id": "97086a48",
   "metadata": {},
   "outputs": [
    {
     "name": "stdout",
     "output_type": "stream",
     "text": [
      "5\n"
     ]
    }
   ],
   "source": [
    "print(list3[4])# 5"
   ]
  },
  {
   "cell_type": "code",
   "execution_count": 14,
   "id": "0fb369dc",
   "metadata": {},
   "outputs": [
    {
     "name": "stdout",
     "output_type": "stream",
     "text": [
      "[2, 3, 4, 5, 6, 7]\n"
     ]
    }
   ],
   "source": [
    "print(list3[1:7])# [2,3,4,5,6,7]"
   ]
  },
  {
   "cell_type": "markdown",
   "id": "46f86b5a",
   "metadata": {},
   "source": [
    "### 리스트 마지막에 데이터 추가\n",
    "\n",
    "리스트명.append(값)"
   ]
  },
  {
   "cell_type": "code",
   "execution_count": 15,
   "id": "31f1b74f",
   "metadata": {},
   "outputs": [
    {
     "name": "stdout",
     "output_type": "stream",
     "text": [
      "[1, 2, 3, 4, 5, 6, 7, 8, 9, 10]\n"
     ]
    }
   ],
   "source": [
    "print(list3)"
   ]
  },
  {
   "cell_type": "code",
   "execution_count": 21,
   "id": "ecad4efa",
   "metadata": {},
   "outputs": [],
   "source": [
    "list3.append(11)"
   ]
  },
  {
   "cell_type": "code",
   "execution_count": 22,
   "id": "ef20109a",
   "metadata": {},
   "outputs": [
    {
     "name": "stdout",
     "output_type": "stream",
     "text": [
      "[1, 2, 3, 4, 5, 6, 7, 8, 9, 10, 11]\n"
     ]
    }
   ],
   "source": [
    "print(list3)"
   ]
  },
  {
   "cell_type": "markdown",
   "id": "63877742",
   "metadata": {},
   "source": [
    "### 리스트 특정 위치에 데이터 추가\n",
    "\n",
    "리스트명.insert(순서번호, 값)\n",
    "\n",
    "순서번호는 0부터  \n",
    "\n",
    "순서번호에 값이 들어가게 된다."
   ]
  },
  {
   "cell_type": "code",
   "execution_count": 23,
   "id": "5d6eae89",
   "metadata": {},
   "outputs": [],
   "source": [
    "list3.insert(5, 5.5)"
   ]
  },
  {
   "cell_type": "code",
   "execution_count": 24,
   "id": "3d3e7133",
   "metadata": {},
   "outputs": [
    {
     "name": "stdout",
     "output_type": "stream",
     "text": [
      "[1, 2, 3, 4, 5, 5.5, 6, 7, 8, 9, 10, 11]\n"
     ]
    }
   ],
   "source": [
    "print(list3)"
   ]
  },
  {
   "cell_type": "markdown",
   "id": "fee09606",
   "metadata": {},
   "source": [
    "## 리스트 특정 값 삭제\n",
    "\n",
    "리스트명.remove(값)"
   ]
  },
  {
   "cell_type": "code",
   "execution_count": 25,
   "id": "2783edba",
   "metadata": {},
   "outputs": [],
   "source": [
    "list3.remove(5)"
   ]
  },
  {
   "cell_type": "code",
   "execution_count": 26,
   "id": "5ade36f5",
   "metadata": {},
   "outputs": [
    {
     "name": "stdout",
     "output_type": "stream",
     "text": [
      "[1, 2, 3, 4, 5.5, 6, 7, 8, 9, 10, 11]\n"
     ]
    }
   ],
   "source": [
    "print(list3)"
   ]
  },
  {
   "cell_type": "markdown",
   "id": "fb917bf8",
   "metadata": {},
   "source": [
    "### 리스트 특정 위치의 값 삭제\n",
    "\n",
    "리스트명.pop(순서번호)"
   ]
  },
  {
   "cell_type": "code",
   "execution_count": 27,
   "id": "4d984da5",
   "metadata": {},
   "outputs": [
    {
     "data": {
      "text/plain": [
       "5.5"
      ]
     },
     "execution_count": 27,
     "metadata": {},
     "output_type": "execute_result"
    }
   ],
   "source": [
    "list3.pop(4)"
   ]
  },
  {
   "cell_type": "code",
   "execution_count": 28,
   "id": "0bb58ffb",
   "metadata": {},
   "outputs": [
    {
     "name": "stdout",
     "output_type": "stream",
     "text": [
      "[1, 2, 3, 4, 6, 7, 8, 9, 10, 11]\n"
     ]
    }
   ],
   "source": [
    "print(list3)"
   ]
  }
 ],
 "metadata": {
  "kernelspec": {
   "display_name": "Python 3 (ipykernel)",
   "language": "python",
   "name": "python3"
  },
  "language_info": {
   "codemirror_mode": {
    "name": "ipython",
    "version": 3
   },
   "file_extension": ".py",
   "mimetype": "text/x-python",
   "name": "python",
   "nbconvert_exporter": "python",
   "pygments_lexer": "ipython3",
   "version": "3.9.13"
  }
 },
 "nbformat": 4,
 "nbformat_minor": 5
}
