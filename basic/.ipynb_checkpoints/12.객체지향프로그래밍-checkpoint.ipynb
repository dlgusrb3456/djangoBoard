{
 "cells": [
  {
   "cell_type": "markdown",
   "id": "9ea1fe71",
   "metadata": {},
   "source": [
    "# 객체 지향 프로그래밍\n",
    "\n",
    "\n",
    "프로그래밍 하는 방식(패러다임) 중 하나\n",
    "\n",
    "프로그래밍 하는데 필요한 데이터를 추상화(공통점을 찾아서)시켜서 상태(특징을 변수로 만듦)와 행위(상태를 변경하는 함수로 만듦)를 가진 하나의 객체로 만든다."
   ]
  },
  {
   "cell_type": "markdown",
   "id": "99f19ec6",
   "metadata": {},
   "source": [
    "### 클래스\n",
    "\n",
    "클래스는 객체를 만들기 위한 설계도  \n",
    "\n",
    "class 클래스명:  \n",
    "&nbsp;&nbsp;&nbsp;&nbsp;속성(변수, 상태)  \n",
    "&nbsp;&nbsp;&nbsp;&nbsp;메소드(함수개념, 행위)"
   ]
  },
  {
   "cell_type": "code",
   "execution_count": 2,
   "id": "aacd56a1",
   "metadata": {},
   "outputs": [],
   "source": [
    "class Car:\n",
    "    color = \"\"\n",
    "    speed = 0\n",
    "    kinds = \"\"\n",
    "    \n",
    "    def upSpeed(self):\n",
    "        self.speed = self.speed + 10\n",
    "        \n",
    "    def downSpeed(self):\n",
    "        self.speed = self.speed - 10\n",
    "        \n",
    "    def changeColor(self, color):\n",
    "        self.color = color"
   ]
  },
  {
   "cell_type": "markdown",
   "id": "1d5002c1",
   "metadata": {},
   "source": [
    "### 객체\n",
    "\n",
    "클래스를 이용해서 생성하는 것  \n",
    "\n",
    "변수명 = 클래스이름()"
   ]
  },
  {
   "cell_type": "code",
   "execution_count": 3,
   "id": "e22651e6",
   "metadata": {},
   "outputs": [],
   "source": [
    "mycar1 = Car()\n",
    "mycar2 = Car()"
   ]
  },
  {
   "cell_type": "markdown",
   "id": "a13fc825",
   "metadata": {},
   "source": [
    "### 속성\n",
    "\n",
    "속성에 접근할 때는 변수명.속성이름 으로 접근"
   ]
  },
  {
   "cell_type": "code",
   "execution_count": 4,
   "id": "9b47aa50",
   "metadata": {},
   "outputs": [],
   "source": [
    "mycar1.color = \"파랑\"\n",
    "mycar2.color = \"빨강\""
   ]
  },
  {
   "cell_type": "code",
   "execution_count": 5,
   "id": "2aa39116",
   "metadata": {},
   "outputs": [
    {
     "name": "stdout",
     "output_type": "stream",
     "text": [
      "파랑\n",
      "빨강\n"
     ]
    }
   ],
   "source": [
    "print(mycar1.color)\n",
    "print(mycar2.color)"
   ]
  },
  {
   "cell_type": "markdown",
   "id": "75fc2e98",
   "metadata": {},
   "source": [
    "### 메소드\n",
    "\n",
    "변수명.메소드이름(값1,값2...)"
   ]
  },
  {
   "cell_type": "code",
   "execution_count": 6,
   "id": "cde68e7d",
   "metadata": {},
   "outputs": [
    {
     "name": "stdout",
     "output_type": "stream",
     "text": [
      "0\n"
     ]
    }
   ],
   "source": [
    "print(mycar1.speed)"
   ]
  },
  {
   "cell_type": "code",
   "execution_count": 7,
   "id": "37ffc400",
   "metadata": {},
   "outputs": [],
   "source": [
    "mycar1.upSpeed()"
   ]
  },
  {
   "cell_type": "code",
   "execution_count": 9,
   "id": "7a7d169f",
   "metadata": {},
   "outputs": [
    {
     "name": "stdout",
     "output_type": "stream",
     "text": [
      "10\n"
     ]
    }
   ],
   "source": [
    "print(mycar1.speed)"
   ]
  },
  {
   "cell_type": "code",
   "execution_count": 10,
   "id": "df949b3b",
   "metadata": {},
   "outputs": [
    {
     "name": "stdout",
     "output_type": "stream",
     "text": [
      "파랑\n"
     ]
    }
   ],
   "source": [
    "print(mycar1.color)"
   ]
  },
  {
   "cell_type": "code",
   "execution_count": 11,
   "id": "4d3f4865",
   "metadata": {},
   "outputs": [],
   "source": [
    "mycar1.changeColor(\"노랑\")"
   ]
  },
  {
   "cell_type": "code",
   "execution_count": 13,
   "id": "1769692e",
   "metadata": {},
   "outputs": [
    {
     "name": "stdout",
     "output_type": "stream",
     "text": [
      "노랑\n"
     ]
    }
   ],
   "source": [
    "print(mycar1.color)"
   ]
  },
  {
   "cell_type": "markdown",
   "id": "4de34cc0",
   "metadata": {},
   "source": [
    "# 문제\n",
    "\n",
    "핸드폰 클래스를 만들어보시오.  \n",
    "속성 2개, 메소드 2개  "
   ]
  },
  {
   "cell_type": "code",
   "execution_count": 14,
   "id": "aa0c9ac1",
   "metadata": {},
   "outputs": [],
   "source": [
    "class Smartphone:\n",
    "    version = \"\"\n",
    "    battery = 0\n",
    "    \n",
    "    def charge(self):\n",
    "        self.battery = self.battery + 10\n",
    "        \n",
    "    def update(self, new):\n",
    "        self.version = new"
   ]
  },
  {
   "cell_type": "markdown",
   "id": "5027b3a3",
   "metadata": {},
   "source": [
    "# 문제\n",
    "\n",
    "핸드폰 객체를 하나 생성하고\n",
    "\n",
    "현재 배터리가 50%이고 현재 운영체제 버전은 파이 버전이다.\n",
    "\n",
    "이걸 charge를 통해서 70%까지 충전하고 버전을 스노우콘 으로 업데이트 하시오."
   ]
  },
  {
   "cell_type": "code",
   "execution_count": 15,
   "id": "c53e24cc",
   "metadata": {},
   "outputs": [],
   "source": [
    "myPhone = Smartphone()"
   ]
  },
  {
   "cell_type": "code",
   "execution_count": 16,
   "id": "048d238c",
   "metadata": {},
   "outputs": [],
   "source": [
    "myPhone.battery = 50\n",
    "myPhone.version = \"파이\""
   ]
  },
  {
   "cell_type": "code",
   "execution_count": 19,
   "id": "21a6bee0",
   "metadata": {},
   "outputs": [
    {
     "name": "stdout",
     "output_type": "stream",
     "text": [
      "50\n",
      "파이\n"
     ]
    }
   ],
   "source": [
    "print(myPhone.battery)\n",
    "print(myPhone.version)"
   ]
  },
  {
   "cell_type": "code",
   "execution_count": 20,
   "id": "639ca006",
   "metadata": {},
   "outputs": [],
   "source": [
    "myPhone.charge()\n",
    "myPhone.charge()"
   ]
  },
  {
   "cell_type": "code",
   "execution_count": 21,
   "id": "29a14940",
   "metadata": {},
   "outputs": [
    {
     "name": "stdout",
     "output_type": "stream",
     "text": [
      "70\n",
      "파이\n"
     ]
    }
   ],
   "source": [
    "print(myPhone.battery)\n",
    "print(myPhone.version)"
   ]
  },
  {
   "cell_type": "code",
   "execution_count": 23,
   "id": "8e70e857",
   "metadata": {},
   "outputs": [],
   "source": [
    "myPhone.update(\"스노우콘\")"
   ]
  },
  {
   "cell_type": "code",
   "execution_count": 24,
   "id": "df175ee0",
   "metadata": {},
   "outputs": [
    {
     "name": "stdout",
     "output_type": "stream",
     "text": [
      "70\n",
      "스노우콘\n"
     ]
    }
   ],
   "source": [
    "print(myPhone.battery)\n",
    "print(myPhone.version)"
   ]
  },
  {
   "cell_type": "markdown",
   "id": "7061520d",
   "metadata": {},
   "source": [
    "# 문제\n",
    "\n",
    "플레이어 클래스를 생성\n",
    "\n",
    "속성  \n",
    "&nbsp;&nbsp;닉네임  \n",
    "&nbsp;&nbsp;보유아이템  \n",
    "&nbsp;&nbsp;체력  \n",
    "&nbsp;&nbsp;x좌표  \n",
    "&nbsp;&nbsp;y좌표  \n",
    "&nbsp;&nbsp;z좌표  \n",
    "  \n",
    "행위  \n",
    "&nbsp;&nbsp;아이템획득  \n",
    "&nbsp;&nbsp;공격받음  \n",
    "&nbsp;&nbsp;좌표이동  "
   ]
  },
  {
   "cell_type": "code",
   "execution_count": 25,
   "id": "d9ed3766",
   "metadata": {},
   "outputs": [],
   "source": [
    "class Player:\n",
    "    nickname=\"\"\n",
    "    item=[]\n",
    "    hp=0\n",
    "    x=0\n",
    "    y=0\n",
    "    z=0\n",
    "    \n",
    "    def getItem(self, item):\n",
    "        self.item.append(item)\n",
    "        \n",
    "    def attacked(self):\n",
    "        self.hp = self.hp - 10\n",
    "    \n",
    "    def moveX(self, x):\n",
    "        self.x = self.x + x\n",
    "        \n",
    "    def moveY(self, y):\n",
    "        self.y = self.y + y"
   ]
  },
  {
   "cell_type": "markdown",
   "id": "9e806e6d",
   "metadata": {},
   "source": [
    "### 생성자\n",
    "\n",
    "클래스를 이용해서 객체를 생성할 때 맨 처음 객체의 상태를 정의하는 것\n",
    "\n",
    "\n",
    "클래스 내부에 __init__(self, 매개변수...) 형식의 메소드를 생성"
   ]
  },
  {
   "cell_type": "code",
   "execution_count": 26,
   "id": "52352f4f",
   "metadata": {},
   "outputs": [],
   "source": [
    "class Player:\n",
    "    nickname=\"\"\n",
    "    item=[]\n",
    "    hp=0\n",
    "    x=0\n",
    "    y=0\n",
    "    z=0\n",
    "    \n",
    "    def __init__(self, nickname):\n",
    "        self.nickname = nickname\n",
    "        self.hp = 100\n",
    "    \n",
    "    def getItem(self, item):\n",
    "        self.item.append(item)\n",
    "        \n",
    "    def attacked(self):\n",
    "        self.hp = self.hp - 10\n",
    "    \n",
    "    def moveX(self, x):\n",
    "        self.x = self.x + x\n",
    "        \n",
    "    def moveY(self, y):\n",
    "        self.y = self.y + y"
   ]
  },
  {
   "cell_type": "code",
   "execution_count": 27,
   "id": "0dfddf21",
   "metadata": {},
   "outputs": [],
   "source": [
    "player1 = Player(\"1번플레이어\")"
   ]
  },
  {
   "cell_type": "code",
   "execution_count": 29,
   "id": "199ad039",
   "metadata": {},
   "outputs": [
    {
     "name": "stdout",
     "output_type": "stream",
     "text": [
      "1번플레이어\n",
      "100\n"
     ]
    }
   ],
   "source": [
    "print(player1.nickname)\n",
    "print(player1.hp)"
   ]
  },
  {
   "cell_type": "markdown",
   "id": "68b4908b",
   "metadata": {},
   "source": [
    "# 문제\n",
    "\n",
    "롤 챔피언 클래스 \n",
    "\n",
    "속성  \n",
    "&nbsp;&nbsp;이름  \n",
    "&nbsp;&nbsp;x좌표  \n",
    "&nbsp;&nbsp;y좌표  \n",
    "&nbsp;&nbsp;체력  \n",
    "&nbsp;&nbsp;마나  \n",
    "&nbsp;&nbsp;레벨  \n",
    "&nbsp;&nbsp;골드  \n",
    "\n",
    "\n",
    "행위  \n",
    "&nbsp;&nbsp;렙업  \n",
    "&nbsp;&nbsp;골드획득  \n",
    "&nbsp;&nbsp;아이템구매  \n",
    "&nbsp;&nbsp;x좌표이동  \n",
    "&nbsp;&nbsp;y좌표이동  "
   ]
  },
  {
   "cell_type": "code",
   "execution_count": 30,
   "id": "4d2f2a31",
   "metadata": {},
   "outputs": [],
   "source": [
    "class Champion:\n",
    "    name = \"\"\n",
    "    x = 0\n",
    "    y = 0\n",
    "    hp = 0\n",
    "    mp = 0\n",
    "    level = 0\n",
    "    gold = 0\n",
    "    \n",
    "    def levelUp(self):\n",
    "        self.level = self.level + 1\n",
    "    \n",
    "    def getGold(self, gold):\n",
    "        self.gold = self.gold + gold\n",
    "    \n",
    "    def buyItem(self, gold):\n",
    "        self.gold = self.gold - gold\n",
    "        \n",
    "    def moveX(self, x):\n",
    "        self.x = self.x + x\n",
    "        \n",
    "    def moveY(self, y):\n",
    "        self.y = self.y + y"
   ]
  },
  {
   "cell_type": "markdown",
   "id": "5ad8c94e",
   "metadata": {},
   "source": [
    "# 상속\n",
    "\n",
    "공통된 내용을 클래스로 만들고 해당 내용을 상속 받아 좀 더 디테일한 내용을 추가하여 사용할 수 있다.\n",
    "이 때 상속을 해주는 쪽을 부모 클래스 또는 상위, 슈퍼 클래스 라고 하며 상속 받는 쪽을 자식, 서브 하위 클래스라고 한다.   \n",
    "\n",
    "class 자식클래스명(부모클래스명):  \n",
    "&nbsp;&nbsp;&nbsp;자식클래스 내용"
   ]
  },
  {
   "cell_type": "code",
   "execution_count": 32,
   "id": "413ad991",
   "metadata": {},
   "outputs": [],
   "source": [
    "class Tv:\n",
    "    power = False\n",
    "    channel = 0\n",
    "    volume = 0\n",
    "    \n",
    "    def chagneChannel(self, channel):\n",
    "        self.channel = channel\n",
    "        \n",
    "    def upVolume(self):\n",
    "        self.volume = self.volume + 10"
   ]
  },
  {
   "cell_type": "code",
   "execution_count": 33,
   "id": "0aa09fae",
   "metadata": {},
   "outputs": [],
   "source": [
    "class SmartTv(Tv):\n",
    "    def replay(self):\n",
    "        print(\"다시보기\")"
   ]
  },
  {
   "cell_type": "markdown",
   "id": "abf5449b",
   "metadata": {},
   "source": [
    "# 문제\n",
    "\n",
    "동물 클래스   부모  \n",
    "  다리수\n",
    "  \n",
    "  \n",
    "개 클래스     자식  \n",
    "&nbsp;&nbsp;울음소리\n",
    "  \n",
    "고양이 클래스     자식  \n",
    "&nbsp;&nbsp;울음소리\n",
    "  \n",
    "앵무새 클래스     자식  \n",
    "&nbsp;&nbsp;울음소리\n"
   ]
  },
  {
   "cell_type": "code",
   "execution_count": 35,
   "id": "2f8d44d3",
   "metadata": {},
   "outputs": [],
   "source": [
    "class Animal:\n",
    "    foot = 0\n",
    "    \n",
    "class Dog(Animal):\n",
    "    sound = \"멍멍\"\n",
    "    \n",
    "class Cat(Animal):\n",
    "    sound = \"야옹\"\n",
    "    \n",
    "class Bird(Animal):\n",
    "    sound = \"안녕하세요\"\n",
    "    \n",
    "    "
   ]
  },
  {
   "cell_type": "code",
   "execution_count": 37,
   "id": "0ed317c8",
   "metadata": {},
   "outputs": [
    {
     "name": "stdout",
     "output_type": "stream",
     "text": [
      "4\n",
      "멍멍\n"
     ]
    }
   ],
   "source": [
    "d = Dog()\n",
    "d.foot = 4\n",
    "print(d.foot)\n",
    "print(d.sound)"
   ]
  },
  {
   "cell_type": "code",
   "execution_count": 39,
   "id": "fc17bbf9",
   "metadata": {},
   "outputs": [
    {
     "name": "stdout",
     "output_type": "stream",
     "text": [
      "4\n",
      "야옹\n"
     ]
    }
   ],
   "source": [
    "c = Cat()\n",
    "c.foot = 4\n",
    "print(c.foot)\n",
    "print(c.sound)"
   ]
  },
  {
   "cell_type": "markdown",
   "id": "b827fb70",
   "metadata": {},
   "source": [
    "# 문제\n",
    "\n",
    "챔피언 클래스를 상속 받은\n",
    "\n",
    "근거리 챔피언, 원거리 챔피언\n",
    "\n"
   ]
  },
  {
   "cell_type": "code",
   "execution_count": null,
   "id": "61d1c4c3",
   "metadata": {},
   "outputs": [],
   "source": [
    "class closeChampion(Champion):\n",
    "    range = 10\n",
    "    \n",
    "class farChampion(Champion):\n",
    "    range = 300"
   ]
  },
  {
   "cell_type": "markdown",
   "id": "4f0ebb19",
   "metadata": {},
   "source": [
    "### 오버로딩 - 하나의 클래스 안에서 만드는 것\n",
    "파이썬에서는 정식으로 오버로딩을 지원해주지 않는다.  \n",
    "연산자 오버로딩이라는 건 있음.  \n",
    "똑같은 이름의 메소드를 사용할 때 매개변수가 하나일 때 동작하는 메소드  \n",
    "매개변수가 두개일 때 동작하는 메소드를 각각 만드는 것\n",
    "\n",
    "\n",
    "### 오버라이딩 - 상속받은 클래스에서 만드는 것\n",
    "상속받은 클래스가 부모로부터 받은 메소드를 본인에게 맞게 변경해서 사용하는 것\n"
   ]
  },
  {
   "cell_type": "code",
   "execution_count": 40,
   "id": "556bb982",
   "metadata": {},
   "outputs": [],
   "source": [
    "class Car :\n",
    "    speed = 0 \n",
    "    def upSpeed(self):\n",
    "        seld.speed = self.speed + 10\n",
    "        print(\"현재 속도 : \" + self.speed)"
   ]
  },
  {
   "cell_type": "code",
   "execution_count": 41,
   "id": "28d6f2f2",
   "metadata": {},
   "outputs": [],
   "source": [
    "class SportsCar(Car):\n",
    "    def upSpeed(self):\n",
    "        self.speed = self.speed + 50\n",
    "        print(\"스포츠카의 현재 속도 : \" + self.speed)"
   ]
  }
 ],
 "metadata": {
  "kernelspec": {
   "display_name": "Python 3 (ipykernel)",
   "language": "python",
   "name": "python3"
  },
  "language_info": {
   "codemirror_mode": {
    "name": "ipython",
    "version": 3
   },
   "file_extension": ".py",
   "mimetype": "text/x-python",
   "name": "python",
   "nbconvert_exporter": "python",
   "pygments_lexer": "ipython3",
   "version": "3.9.13"
  }
 },
 "nbformat": 4,
 "nbformat_minor": 5
}
