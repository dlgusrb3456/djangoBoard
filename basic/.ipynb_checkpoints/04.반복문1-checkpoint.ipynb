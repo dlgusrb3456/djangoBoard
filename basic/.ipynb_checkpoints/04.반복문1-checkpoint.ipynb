{
 "cells": [
  {
   "cell_type": "markdown",
   "id": "62093d68",
   "metadata": {},
   "source": [
    "## 반복문\n",
    "특정 작업을 반복 수행하여야 할 때 코드를 여러번 쓰는 것보다 반복문을 사용하면 코드를 짧고 간단하게 만들 수 있다.\n",
    "\n",
    "\n",
    "~하면서, ~동안, ~부터"
   ]
  },
  {
   "cell_type": "markdown",
   "id": "f57c812a",
   "metadata": {},
   "source": [
    "## while 문\n",
    "    while 조건 :\n",
    "        반복 될 코드\n",
    "    "
   ]
  },
  {
   "cell_type": "markdown",
   "id": "a301d181",
   "metadata": {},
   "source": [
    "num를 0부터 num가 5보다 작으면 1씩 증가하면서 \"점심 뭐 먹지?\"를 출력한다."
   ]
  },
  {
   "cell_type": "code",
   "execution_count": null,
   "id": "6f5d9680",
   "metadata": {},
   "outputs": [],
   "source": [
    "num = 0\n",
    "\n",
    "while num<5 :\n",
    "    print(\"점심 뭐먹지?\")\n",
    "    num = num + 1"
   ]
  },
  {
   "cell_type": "markdown",
   "id": "444ff981",
   "metadata": {},
   "source": [
    "# 문제\n",
    "\n",
    "\n",
    "1부터 10까지 더한 결과를 출력하는 프로그램\n",
    "\n",
    "==============================================================================\n",
    "\n",
    "num를 1부터 num가 10보다 작거나 같으면 1씩 증가시키면서 total에 더한다.\n",
    "\n",
    "total을 출력한다."
   ]
  },
  {
   "cell_type": "code",
   "execution_count": 3,
   "id": "e01ca7de",
   "metadata": {},
   "outputs": [],
   "source": [
    "num = 1\n",
    "total = 0"
   ]
  },
  {
   "cell_type": "code",
   "execution_count": 4,
   "id": "a36973e0",
   "metadata": {},
   "outputs": [],
   "source": [
    "while num <= 10 :\n",
    "    total = total + num\n",
    "    num = num + 1"
   ]
  },
  {
   "cell_type": "code",
   "execution_count": 5,
   "id": "94dda210",
   "metadata": {},
   "outputs": [
    {
     "name": "stdout",
     "output_type": "stream",
     "text": [
      "55\n"
     ]
    }
   ],
   "source": [
    "print(total)"
   ]
  },
  {
   "cell_type": "markdown",
   "id": "6ba76e47",
   "metadata": {},
   "source": [
    "# 난수 생성\n",
    "랜덤한 숫자를 생성하는 법"
   ]
  },
  {
   "cell_type": "code",
   "execution_count": 48,
   "id": "5ce4dd0c",
   "metadata": {},
   "outputs": [
    {
     "name": "stdout",
     "output_type": "stream",
     "text": [
      "76\n"
     ]
    }
   ],
   "source": [
    "from random import *\n",
    "\n",
    "i = randint(1, 100)  # 1부터 100 사이의 임의의 정수\n",
    "print(i)"
   ]
  },
  {
   "cell_type": "markdown",
   "id": "459ccf1a",
   "metadata": {},
   "source": [
    "# 문제\n",
    "\n",
    "연금 복권 번호 생성기 만들기\n",
    "\n",
    "연금 복권은 0~9까지 숫자 중 6개 추첨 (숫자는 중복 가능)\n",
    "\n",
    "ex) 3 4 6 6 7 8\n",
    "\n",
    "================================================================\n",
    "\n",
    "num를 1부터 num가 6보다 작거나 같으면 1씩 증가시키면서 랜덤한 숫자를 생성해서 출력한다.\n"
   ]
  },
  {
   "cell_type": "code",
   "execution_count": 50,
   "id": "6dc1182f",
   "metadata": {},
   "outputs": [
    {
     "name": "stdout",
     "output_type": "stream",
     "text": [
      "8\n",
      "0\n",
      "8\n",
      "7\n",
      "5\n",
      "8\n"
     ]
    }
   ],
   "source": [
    "from random import *\n",
    "\n",
    "num=1\n",
    "\n",
    "while num <= 6 :\n",
    "    i = randint(0, 9)  # 1부터 100 사이의 임의의 정수\n",
    "    print(i)\n",
    "    \n",
    "    num = num + 1"
   ]
  },
  {
   "cell_type": "markdown",
   "id": "1c234f1e",
   "metadata": {},
   "source": [
    "# break\n",
    "\n",
    "반복문을 수행하면서 특정 조건이 되면 반복문이 종료될 수 있도록 하는 코드"
   ]
  },
  {
   "cell_type": "code",
   "execution_count": 53,
   "id": "8c3022a1",
   "metadata": {},
   "outputs": [
    {
     "name": "stdout",
     "output_type": "stream",
     "text": [
      "0\n",
      "1\n",
      "2\n",
      "3\n"
     ]
    }
   ],
   "source": [
    "num=0\n",
    "\n",
    "while num<5:\n",
    "    print(num)\n",
    "    \n",
    "    if num == 3 :\n",
    "        break\n",
    "    \n",
    "    num = num + 1"
   ]
  },
  {
   "cell_type": "code",
   "execution_count": 54,
   "id": "49e25447",
   "metadata": {},
   "outputs": [
    {
     "name": "stdout",
     "output_type": "stream",
     "text": [
      "3\n"
     ]
    }
   ],
   "source": [
    "print(num)"
   ]
  },
  {
   "cell_type": "markdown",
   "id": "728f0f12",
   "metadata": {},
   "source": [
    "# continue\n",
    "continue라는 코드가 실행되면 반복문의 조건을 비교하는 곳으로 돌아간다."
   ]
  },
  {
   "cell_type": "code",
   "execution_count": 55,
   "id": "66366be4",
   "metadata": {},
   "outputs": [
    {
     "name": "stdout",
     "output_type": "stream",
     "text": [
      "1\n",
      "2\n",
      "4\n",
      "5\n"
     ]
    }
   ],
   "source": [
    "num=0\n",
    "\n",
    "while num<5:\n",
    "    num = num + 1\n",
    "    \n",
    "    if num == 3 :\n",
    "        continue\n",
    "    \n",
    "    print(num)"
   ]
  },
  {
   "cell_type": "markdown",
   "id": "4893a686",
   "metadata": {},
   "source": [
    "# 3 6 9 게임\n",
    "\n",
    "1부터 10까지 숫자를 출력한다.\n",
    "이 때 3 6 9 일 때는 짝! 을 출력\n",
    "\n",
    "=========================================================================\n",
    "\n",
    "num를 1부터 num가 10보다 작거나 같으면 1씩 증가시키면서 num를 출력한다.  \n",
    "반복하면서 만약에 num가 3이거나 6이거나 9이면 출력하지 않고 다음 반복을 수행 \n",
    "\n",
    "\n"
   ]
  },
  {
   "cell_type": "code",
   "execution_count": 58,
   "id": "e9d1b980",
   "metadata": {},
   "outputs": [
    {
     "name": "stdout",
     "output_type": "stream",
     "text": [
      "1\n",
      "2\n",
      "짝!\n",
      "4\n",
      "5\n",
      "짝!\n",
      "7\n",
      "8\n",
      "짝!\n",
      "10\n"
     ]
    }
   ],
   "source": [
    "num=1\n",
    "\n",
    "while num<=10:\n",
    "    if num==3 or num==6 or num==9 :\n",
    "        num = num + 1\n",
    "        print(\"짝!\")\n",
    "        continue\n",
    "        \n",
    "    print(num)\n",
    "    num = num +1"
   ]
  },
  {
   "cell_type": "code",
   "execution_count": 60,
   "id": "11298776",
   "metadata": {},
   "outputs": [
    {
     "name": "stdout",
     "output_type": "stream",
     "text": [
      "1\n",
      "2\n",
      "짝!\n",
      "4\n",
      "5\n",
      "짝!\n",
      "7\n",
      "8\n",
      "짝!\n",
      "10\n"
     ]
    }
   ],
   "source": [
    "num=0\n",
    "while num<10:\n",
    "    num= num+1\n",
    "    if num==3 or num==6 or num==9 :\n",
    "        print(\"짝!\")\n",
    "        continue\n",
    "    print(num) "
   ]
  },
  {
   "cell_type": "markdown",
   "id": "0e8443ff",
   "metadata": {},
   "source": [
    "# 알람 시계 프로그램\n",
    "\n",
    "9시부터 18시까지 일한다 라고 했을 때\n",
    "점심 시간을 제외하고 하루 8시간 일한다.\n",
    "\n",
    "매시간마다 \"n\" 이라고 출력하고  일한 시간만 출력  \n",
    "1시간 일했으면 1, 2시간 일했으면 2  \n",
    "점심 시간은 일한 시간으로 치지 않는다.  \n",
    "점심 시간은 12~13시, 점심 시간에는 점심시간!! 이라고 출력\n",
    "18시가 되면 퇴근!! 이라고 출력하고 끝나는 프로그램  \n",
    "\n",
    "==========================================================================\n",
    "\n",
    "현재 시간을 time 이라고 하고  \n",
    "일한 시간을 work 라고 한다.  \n",
    "\n",
    "현재 시간은 9부터 1씩 증가하면서 18시보다 작으면 일한 시간(work)을 1증가 시킨다.  \n",
    "반복하면서 만약에 시간이 12시가 되면 \"점심 시간!!\"을 출력한다.  \n",
    "그렇지 않고 만약에 시간이 18시가 되면 \"퇴근!!\"을 출력한다.  \n",
    "\n",
    "마지막에 일 한 시간을 출력"
   ]
  },
  {
   "cell_type": "code",
   "execution_count": 64,
   "id": "ee358928",
   "metadata": {},
   "outputs": [
    {
     "name": "stdout",
     "output_type": "stream",
     "text": [
      "점심 시간!!\n",
      "퇴근!!\n",
      "8\n"
     ]
    }
   ],
   "source": [
    "time=9\n",
    "work=0\n",
    "\n",
    "while time < 18 :\n",
    "    time = time + 1\n",
    "    \n",
    "    \n",
    "    if time == 12 :\n",
    "        print(\"점심 시간!!\")\n",
    "        continue\n",
    "        \n",
    "    elif time == 18 :\n",
    "        print(\"퇴근!!\")\n",
    "        \n",
    "        \n",
    "    work = work + 1\n",
    "    \n",
    "    \n",
    "print(work)"
   ]
  },
  {
   "cell_type": "markdown",
   "id": "1fa1d647",
   "metadata": {},
   "source": [
    "# 문제\n",
    "\n",
    "abc는 10부터 1씩 감소하면서 0보다 크면 abc를 출력하시오."
   ]
  },
  {
   "cell_type": "code",
   "execution_count": 65,
   "id": "214bc5c6",
   "metadata": {},
   "outputs": [
    {
     "name": "stdout",
     "output_type": "stream",
     "text": [
      "10\n",
      "9\n",
      "8\n",
      "7\n",
      "6\n",
      "5\n",
      "4\n",
      "3\n",
      "2\n",
      "1\n"
     ]
    }
   ],
   "source": [
    "abc=10\n",
    "\n",
    "while abc>0 :\n",
    "    print(abc)\n",
    "    abc = abc - 1"
   ]
  },
  {
   "cell_type": "markdown",
   "id": "b169a5d0",
   "metadata": {},
   "source": [
    "# 문제\n",
    "qwer은 1부터 3씩 증가하면서 20보다 작으면 qwer을 출력하시오."
   ]
  },
  {
   "cell_type": "code",
   "execution_count": 66,
   "id": "05649898",
   "metadata": {},
   "outputs": [
    {
     "name": "stdout",
     "output_type": "stream",
     "text": [
      "1\n",
      "4\n",
      "7\n",
      "10\n",
      "13\n",
      "16\n",
      "19\n"
     ]
    }
   ],
   "source": [
    "qwer=1\n",
    "\n",
    "while qwer<20 :\n",
    "    print(qwer)\n",
    "    qwer = qwer + 3"
   ]
  },
  {
   "cell_type": "markdown",
   "id": "c2043be2",
   "metadata": {},
   "source": [
    "# 문제\n",
    "\n",
    "1부터 100까지 숫자 중 3의 배수는 제외하고 모두 더하시오.\n",
    "\n",
    "답 : 3367  \n",
    "힌트 : 3의 배수는 3으로 나눴을 때 나머지가 0인 숫자\n",
    "\n",
    "================================================================\n",
    "\n",
    "1부터 1씩증가하면서 100보다 작거나 같으면 모두 더하는 프로그램\n",
    "반복하면서 만약에 3의 배수는 제외\n",
    "\n",
    "================================================================\n",
    "\n",
    "num는 1부터 1씩증가하면서 100보다 작거나 같으면 total에 더하는 프로그램\n",
    "반복하면서 만약에 3의 배수는 제외\n"
   ]
  },
  {
   "cell_type": "code",
   "execution_count": 4,
   "id": "509d7054",
   "metadata": {},
   "outputs": [
    {
     "name": "stdout",
     "output_type": "stream",
     "text": [
      "3367\n"
     ]
    }
   ],
   "source": [
    "num = 1\n",
    "total = 0\n",
    "\n",
    "while num<=100:\n",
    "    if (num % 3) == 0 :\n",
    "        num = num + 1\n",
    "        continue\n",
    "    \n",
    "    total = total + num\n",
    "    num = num + 1\n",
    "    \n",
    "print(total)"
   ]
  },
  {
   "cell_type": "code",
   "execution_count": 7,
   "id": "bea70b39",
   "metadata": {},
   "outputs": [
    {
     "name": "stdout",
     "output_type": "stream",
     "text": [
      "3367\n"
     ]
    }
   ],
   "source": [
    "num = 0\n",
    "total = 0\n",
    "\n",
    "while num<100:\n",
    "    num = num + 1\n",
    "    if (num % 3) == 0 :\n",
    "        continue\n",
    "    \n",
    "    total = total + num\n",
    "    \n",
    "print(total)"
   ]
  },
  {
   "cell_type": "code",
   "execution_count": null,
   "id": "d5ccb3a5",
   "metadata": {},
   "outputs": [],
   "source": []
  }
 ],
 "metadata": {
  "kernelspec": {
   "display_name": "Python 3 (ipykernel)",
   "language": "python",
   "name": "python3"
  },
  "language_info": {
   "codemirror_mode": {
    "name": "ipython",
    "version": 3
   },
   "file_extension": ".py",
   "mimetype": "text/x-python",
   "name": "python",
   "nbconvert_exporter": "python",
   "pygments_lexer": "ipython3",
   "version": "3.9.13"
  }
 },
 "nbformat": 4,
 "nbformat_minor": 5
}
