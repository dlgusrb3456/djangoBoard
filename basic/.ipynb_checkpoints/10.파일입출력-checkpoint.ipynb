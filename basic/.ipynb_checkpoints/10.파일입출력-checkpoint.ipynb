{
 "cells": [
  {
   "cell_type": "markdown",
   "id": "f0206d6f",
   "metadata": {},
   "source": [
    "## 파일 입출력\n",
    "파일 열기 -> 파일 읽기 또는 쓰기 -> 파일 닫기  \n",
    "open()함수&nbsp;&nbsp;&nbsp;&nbsp;&nbsp;&nbsp;&nbsp;&nbsp;read(), write()&nbsp;&nbsp;&nbsp;&nbsp;&nbsp;&nbsp;&nbsp;&nbsp;close()"
   ]
  },
  {
   "cell_type": "markdown",
   "id": "53a2575e",
   "metadata": {},
   "source": [
    "### 파일에서 데이터 읽기"
   ]
  },
  {
   "cell_type": "code",
   "execution_count": 22,
   "id": "b479fa07",
   "metadata": {},
   "outputs": [
    {
     "name": "stdout",
     "output_type": "stream",
     "text": [
      "['11440730', '11110560', '11320700', '11290650', '11200650']\n",
      "[15, 2, 1, 3, 2]\n",
      "[13062.298899999998, 2.3151, 0.2922, 8.9115, 0.7569999999999999]\n"
     ]
    }
   ],
   "source": [
    "## open(\"경로\", \"모드\", encoding=\"인코딩타입\")\n",
    "## 모드 : r(읽기), w(쓰기), r+(읽기 및 쓰기), a(쓰기, 기존 파일에 이어서 쓰기), t(텍스트 모드, 기본값), b(바이너리, 이진 모드)\n",
    "f = open(\"c:/test/test.csv\",\"r\")\n",
    "\n",
    "dong_codes = []\n",
    "cnts = []\n",
    "totals = []\n",
    "\n",
    "f.readline()\n",
    "\n",
    "while True:\n",
    "    contents = f.readline()\n",
    "    if(contents==\"\"):\n",
    "        break;\n",
    "    \n",
    "    dong_code = contents.split(',')[2].replace('\"','')\n",
    "    total = float(contents.split(',')[4].replace('\"',''))\n",
    "    \n",
    "    if dong_code in dong_codes:\n",
    "        cnts[dong_codes.index(dong_code)] = cnts[dong_codes.index(dong_code)] + 1\n",
    "        totals[dong_codes.index(dong_code)] = totals[dong_codes.index(dong_code)] + total\n",
    "    else :\n",
    "        dong_codes.append(dong_code)\n",
    "        cnts.append(1)\n",
    "        totals.append(total)\n",
    "        \n",
    "print(dong_codes)\n",
    "print(cnts)\n",
    "print(totals)\n",
    "\n",
    "f.close()"
   ]
  },
  {
   "cell_type": "code",
   "execution_count": 23,
   "id": "da11f1f7",
   "metadata": {},
   "outputs": [
    {
     "name": "stdout",
     "output_type": "stream",
     "text": [
      "[870.8199266666666, 1.15755, 0.2922, 2.9705, 0.37849999999999995]\n"
     ]
    }
   ],
   "source": [
    "avgs = []\n",
    "\n",
    "for i in range(0, len(totals), 1):\n",
    "    avgs.append(totals[i] / cnts[i])\n",
    "    \n",
    "print(avgs)"
   ]
  },
  {
   "cell_type": "markdown",
   "id": "0a865f12",
   "metadata": {},
   "source": [
    "### 파일에 데이터 쓰기"
   ]
  },
  {
   "cell_type": "code",
   "execution_count": 25,
   "id": "db7e1501",
   "metadata": {},
   "outputs": [],
   "source": [
    "f = open(\"c:/test/test2.txt\",\"w\")\n",
    "\n",
    "f.writelines(\"안녕하세요.ㅋㅋㅋ\")\n",
    "\n",
    "f.close()"
   ]
  },
  {
   "cell_type": "code",
   "execution_count": 26,
   "id": "a20a044a",
   "metadata": {},
   "outputs": [
    {
     "name": "stdout",
     "output_type": "stream",
     "text": [
      "파일의 이름을 입력해주세요 : \n",
      "qwer.txt\n",
      "파일의 내용을 입력해주세요 : \n",
      "abcdefg\n"
     ]
    }
   ],
   "source": [
    "print(\"파일의 이름을 입력해주세요 : \")\n",
    "file_name = input()\n",
    "\n",
    "print(\"파일의 내용을 입력해주세요 : \")\n",
    "file_contents = input()\n",
    "\n",
    "\n",
    "f = open(\"c:/test/\"+file_name,\"w\")\n",
    "\n",
    "f.writelines(file_contents)\n",
    "\n",
    "f.close()"
   ]
  }
 ],
 "metadata": {
  "kernelspec": {
   "display_name": "Python 3 (ipykernel)",
   "language": "python",
   "name": "python3"
  },
  "language_info": {
   "codemirror_mode": {
    "name": "ipython",
    "version": 3
   },
   "file_extension": ".py",
   "mimetype": "text/x-python",
   "name": "python",
   "nbconvert_exporter": "python",
   "pygments_lexer": "ipython3",
   "version": "3.9.13"
  }
 },
 "nbformat": 4,
 "nbformat_minor": 5
}
