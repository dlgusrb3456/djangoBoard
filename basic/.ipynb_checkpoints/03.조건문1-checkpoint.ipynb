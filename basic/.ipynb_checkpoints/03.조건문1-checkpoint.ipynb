{
 "cells": [
  {
   "cell_type": "markdown",
   "id": "8a83f432",
   "metadata": {},
   "source": [
    "# 조건문\n",
    "\n",
    "#### if 조건식 :  \n",
    "&nbsp;&nbsp;&nbsp;&nbsp; 조건이 참일 때 실행하고 싶은 코드"
   ]
  },
  {
   "cell_type": "code",
   "execution_count": 2,
   "id": "13fd4b62",
   "metadata": {},
   "outputs": [],
   "source": [
    "num1=10"
   ]
  },
  {
   "cell_type": "code",
   "execution_count": 3,
   "id": "4a6f2ef6",
   "metadata": {},
   "outputs": [
    {
     "name": "stdout",
     "output_type": "stream",
     "text": [
      "False\n"
     ]
    }
   ],
   "source": [
    "print(num1>20)"
   ]
  },
  {
   "cell_type": "markdown",
   "id": "4409b7f4",
   "metadata": {},
   "source": [
    "만약에 num1에 저장된 값이 5보다 크면 \"num1은 5보다 크다\" 라고 출력"
   ]
  },
  {
   "cell_type": "code",
   "execution_count": 5,
   "id": "9a848a0e",
   "metadata": {},
   "outputs": [
    {
     "name": "stdout",
     "output_type": "stream",
     "text": [
      "num1은 5보다 크다\n"
     ]
    }
   ],
   "source": [
    "if num1>5 :\n",
    "    print(\"num1은 5보다 크다\") "
   ]
  },
  {
   "cell_type": "markdown",
   "id": "415c49b9",
   "metadata": {},
   "source": [
    "만약에 str1에 저장된 값이 \"hello\"와 같다면 화면에 \"같다\"라고 출력"
   ]
  },
  {
   "cell_type": "code",
   "execution_count": 7,
   "id": "18afb7b5",
   "metadata": {},
   "outputs": [],
   "source": [
    "str1=\"qwer\"\n",
    "\n",
    "if str1==\"hello\" :\n",
    "    print(\"같다.\")"
   ]
  },
  {
   "cell_type": "markdown",
   "id": "7af4f4d9",
   "metadata": {},
   "source": [
    "# 입력받기\n",
    "\n",
    "변수=input()\n",
    "\n",
    "변수에 사용자로부터 입력받은 값을 저장"
   ]
  },
  {
   "cell_type": "code",
   "execution_count": 9,
   "id": "ec31edfd",
   "metadata": {},
   "outputs": [
    {
     "name": "stdout",
     "output_type": "stream",
     "text": [
      "123\n"
     ]
    }
   ],
   "source": [
    "input1=input()"
   ]
  },
  {
   "cell_type": "code",
   "execution_count": 10,
   "id": "85311e6f",
   "metadata": {},
   "outputs": [
    {
     "name": "stdout",
     "output_type": "stream",
     "text": [
      "123\n"
     ]
    }
   ],
   "source": [
    "print(input1)"
   ]
  },
  {
   "cell_type": "code",
   "execution_count": 11,
   "id": "8b580eae",
   "metadata": {},
   "outputs": [
    {
     "name": "stdout",
     "output_type": "stream",
     "text": [
      "<class 'str'>\n"
     ]
    }
   ],
   "source": [
    "print(type(input1))"
   ]
  },
  {
   "cell_type": "markdown",
   "id": "5ddec865",
   "metadata": {},
   "source": [
    "# 문자를 숫자로 변환\n",
    "\n",
    "변수 = int(문자)"
   ]
  },
  {
   "cell_type": "code",
   "execution_count": 12,
   "id": "dd9724d3",
   "metadata": {},
   "outputs": [],
   "source": [
    "input1 = int(input1)"
   ]
  },
  {
   "cell_type": "code",
   "execution_count": 13,
   "id": "f3ef5e03",
   "metadata": {},
   "outputs": [
    {
     "name": "stdout",
     "output_type": "stream",
     "text": [
      "<class 'int'>\n"
     ]
    }
   ],
   "source": [
    "print(type(input1))"
   ]
  },
  {
   "cell_type": "markdown",
   "id": "2e452428",
   "metadata": {},
   "source": [
    "# 숫자를 문자로 변환\n",
    "\n",
    "str(숫자)"
   ]
  },
  {
   "cell_type": "code",
   "execution_count": 14,
   "id": "f259fd7b",
   "metadata": {},
   "outputs": [],
   "source": [
    "num1=321"
   ]
  },
  {
   "cell_type": "code",
   "execution_count": 15,
   "id": "4c5a2a18",
   "metadata": {},
   "outputs": [
    {
     "name": "stdout",
     "output_type": "stream",
     "text": [
      "<class 'int'>\n"
     ]
    }
   ],
   "source": [
    "print(type(num1))"
   ]
  },
  {
   "cell_type": "code",
   "execution_count": 16,
   "id": "f861af91",
   "metadata": {},
   "outputs": [],
   "source": [
    "num1=str(num1)"
   ]
  },
  {
   "cell_type": "code",
   "execution_count": 18,
   "id": "d91145a6",
   "metadata": {},
   "outputs": [
    {
     "name": "stdout",
     "output_type": "stream",
     "text": [
      "<class 'str'>\n"
     ]
    }
   ],
   "source": [
    "print(type(num1))"
   ]
  },
  {
   "cell_type": "markdown",
   "id": "11a0dee3",
   "metadata": {},
   "source": [
    "# 문제\n",
    "\n",
    "계산기 프로그램 만들기\n",
    "\n",
    "사용자한테 +, -, *, / 중 하나를 입력받는다.  \n",
    "만약에 입력받는 문자가 +면 숫자 2개를 더 입력받고 두 수의 합을 출력  \n",
    "만약에 입력받는 문자가 -면 숫자 2개를 더 입력받고 두 수의 차을 출력  \n",
    "만약에 입력받는 문자가 *면 숫자 2개를 더 입력받고 두 수의 곱을 출력  \n",
    "만약에 입력받는 문자가 /면 숫자 2개를 더 입력받고 두 수의 나누기 결과를 출력  "
   ]
  },
  {
   "cell_type": "code",
   "execution_count": 22,
   "id": "0073e5f6",
   "metadata": {},
   "outputs": [
    {
     "name": "stdout",
     "output_type": "stream",
     "text": [
      "-\n"
     ]
    }
   ],
   "source": [
    "opt=input()"
   ]
  },
  {
   "cell_type": "code",
   "execution_count": 23,
   "id": "013b01ae",
   "metadata": {},
   "outputs": [],
   "source": [
    "if opt==\"+\" :\n",
    "    num1=input()\n",
    "    num1=int(num1)\n",
    "    \n",
    "    num2=input()\n",
    "    num2=int(num2)\n",
    "    \n",
    "    print(num1+num2)"
   ]
  },
  {
   "cell_type": "code",
   "execution_count": 24,
   "id": "77f3a2f6",
   "metadata": {},
   "outputs": [
    {
     "name": "stdout",
     "output_type": "stream",
     "text": [
      "30\n",
      "10\n",
      "20\n"
     ]
    }
   ],
   "source": [
    "if opt==\"-\" :\n",
    "    num1=input()\n",
    "    num1=int(num1)\n",
    "    \n",
    "    num2=input()\n",
    "    num2=int(num2)\n",
    "    \n",
    "    print(num1-num2)"
   ]
  },
  {
   "cell_type": "code",
   "execution_count": 25,
   "id": "27c50289",
   "metadata": {},
   "outputs": [],
   "source": [
    "if opt==\"*\" :\n",
    "    num1=input()\n",
    "    num1=int(num1)\n",
    "    \n",
    "    num2=input()\n",
    "    num2=int(num2)\n",
    "    \n",
    "    print(num1*num2)"
   ]
  },
  {
   "cell_type": "code",
   "execution_count": 26,
   "id": "75d720b1",
   "metadata": {},
   "outputs": [],
   "source": [
    "if opt==\"/\" :\n",
    "    num1=input()\n",
    "    num1=int(num1)\n",
    "    \n",
    "    num2=input()\n",
    "    num2=int(num2)\n",
    "    \n",
    "    print(num1/num2)"
   ]
  },
  {
   "cell_type": "markdown",
   "id": "6cab3ca5",
   "metadata": {},
   "source": [
    "# 조건이 참이 아닐때 실행되는 코드\n",
    "\n",
    "    if 조건식:\n",
    "      조건식이 참일 때 실행될 코드\n",
    "    else :\n",
    "      조건이 거짓일 때 실행될 코드\n"
   ]
  },
  {
   "cell_type": "code",
   "execution_count": 28,
   "id": "97f58402",
   "metadata": {},
   "outputs": [
    {
     "name": "stdout",
     "output_type": "stream",
     "text": [
      "다르다\n"
     ]
    }
   ],
   "source": [
    "num1=9\n",
    "\n",
    "if num1==10:\n",
    "    print(\"같다.\")\n",
    "else :\n",
    "    print(\"다르다\")"
   ]
  },
  {
   "cell_type": "markdown",
   "id": "380bda0d",
   "metadata": {},
   "source": [
    "# 타자 연습기 만들기\n",
    "\n",
    "str1=\"if문 안의 코드는 조건이 참일 때 실행되는 코드\"\n",
    "\n",
    "만약에 사용자한테 입력받은 값이 str이랑 같으면 성공!! 이라고 출력하고  \n",
    "그렇지 않으면 실패!! 라고 출력하는 프로그램"
   ]
  },
  {
   "cell_type": "code",
   "execution_count": 44,
   "id": "f3091343",
   "metadata": {},
   "outputs": [],
   "source": [
    "str1=\"if문_안의_코드는_조건이_참일_때_실행되는_코드\""
   ]
  },
  {
   "cell_type": "code",
   "execution_count": 45,
   "id": "65b737f9",
   "metadata": {},
   "outputs": [
    {
     "name": "stdout",
     "output_type": "stream",
     "text": [
      "if문_안의_코드는_조건이_참일_때_실행되는_코드\n"
     ]
    }
   ],
   "source": [
    "input_str=input()"
   ]
  },
  {
   "cell_type": "code",
   "execution_count": 46,
   "id": "8ee4348b",
   "metadata": {},
   "outputs": [
    {
     "name": "stdout",
     "output_type": "stream",
     "text": [
      "성공!!\n"
     ]
    }
   ],
   "source": [
    "if input_str==str1:\n",
    "    print(\"성공!!\")\n",
    "else :\n",
    "    print(\"실패!!\")"
   ]
  }
 ],
 "metadata": {
  "kernelspec": {
   "display_name": "Python 3 (ipykernel)",
   "language": "python",
   "name": "python3"
  },
  "language_info": {
   "codemirror_mode": {
    "name": "ipython",
    "version": 3
   },
   "file_extension": ".py",
   "mimetype": "text/x-python",
   "name": "python",
   "nbconvert_exporter": "python",
   "pygments_lexer": "ipython3",
   "version": "3.9.13"
  }
 },
 "nbformat": 4,
 "nbformat_minor": 5
}
