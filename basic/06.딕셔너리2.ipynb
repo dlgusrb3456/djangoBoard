{
 "cells": [
  {
   "cell_type": "code",
   "execution_count": 1,
   "metadata": {},
   "outputs": [],
   "source": [
    "dict_ex = {'키1':'값1','키2':'값2','키3':'값3'}"
   ]
  },
  {
   "cell_type": "markdown",
   "metadata": {},
   "source": [
    "# 문제\n",
    "\n",
    "courses 라는 딕셔너리를 만드시오.\n",
    "\n",
    "키 : '파이썬', '알고리즘', '인공지능'  \n",
    "값 : 64, 80, 120"
   ]
  },
  {
   "cell_type": "code",
   "execution_count": 10,
   "metadata": {},
   "outputs": [],
   "source": [
    "courses = {'파이썬':64, '알고리즘':80, '인공지능':120}"
   ]
  },
  {
   "cell_type": "markdown",
   "metadata": {},
   "source": [
    "# 딕셔너리 활용 - keys\n",
    "\n",
    "딕셔너리의 키만 접근\n",
    "\n",
    "딕셔너리변수이름.keys()"
   ]
  },
  {
   "cell_type": "code",
   "execution_count": 4,
   "metadata": {},
   "outputs": [
    {
     "name": "stdout",
     "output_type": "stream",
     "text": [
      "키1\n",
      "키2\n",
      "키3\n"
     ]
    }
   ],
   "source": [
    "for key in dict_ex.keys():\n",
    "    print(key)"
   ]
  },
  {
   "cell_type": "markdown",
   "metadata": {},
   "source": [
    "# 문제\n",
    "courses 딕셔너리의 키들만 출력"
   ]
  },
  {
   "cell_type": "code",
   "execution_count": 11,
   "metadata": {},
   "outputs": [
    {
     "name": "stdout",
     "output_type": "stream",
     "text": [
      "파이썬\n",
      "알고리즘\n",
      "인공지능\n"
     ]
    }
   ],
   "source": [
    "for course in courses.keys():\n",
    "    print(course)"
   ]
  },
  {
   "cell_type": "markdown",
   "metadata": {},
   "source": [
    "# 딕셔너리 활용 - values\n",
    "\n",
    "딕셔너리의 값만 접근\n",
    "\n",
    "딕셔너리변수이름.values()"
   ]
  },
  {
   "cell_type": "code",
   "execution_count": 13,
   "metadata": {},
   "outputs": [
    {
     "name": "stdout",
     "output_type": "stream",
     "text": [
      "값1\n",
      "값2\n",
      "값3\n"
     ]
    }
   ],
   "source": [
    "for value in dict_ex.values():\n",
    "    print(value)"
   ]
  },
  {
   "cell_type": "markdown",
   "metadata": {},
   "source": [
    "# 문제\n",
    "courses 딕셔너리의 값들만 출력"
   ]
  },
  {
   "cell_type": "code",
   "execution_count": 15,
   "metadata": {},
   "outputs": [
    {
     "name": "stdout",
     "output_type": "stream",
     "text": [
      "64\n",
      "80\n",
      "120\n"
     ]
    }
   ],
   "source": [
    "for time in courses.values():\n",
    "    print(time)"
   ]
  },
  {
   "cell_type": "markdown",
   "metadata": {},
   "source": [
    "# 딕셔너리 활용 - items\n",
    "\n",
    "딕셔너리의 키와 값 같이 접근\n",
    "\n",
    "딕셔너리변수이름.items()"
   ]
  },
  {
   "cell_type": "code",
   "execution_count": 23,
   "metadata": {},
   "outputs": [
    {
     "name": "stdout",
     "output_type": "stream",
     "text": [
      "('키1', '값1')\n",
      "('키2', '값2')\n",
      "('키3', '값3')\n"
     ]
    }
   ],
   "source": [
    "for item in dict_ex.items():\n",
    "    print(item)"
   ]
  },
  {
   "cell_type": "code",
   "execution_count": 24,
   "metadata": {},
   "outputs": [
    {
     "name": "stdout",
     "output_type": "stream",
     "text": [
      "키1\n",
      "값1\n",
      "키2\n",
      "값2\n",
      "키3\n",
      "값3\n"
     ]
    }
   ],
   "source": [
    "for key,value in dict_ex.items():\n",
    "    print(key)\n",
    "    print(value)"
   ]
  },
  {
   "cell_type": "markdown",
   "metadata": {},
   "source": [
    "# 문제\n",
    "courses 딕셔너리의 키와 값 모두 출력"
   ]
  },
  {
   "cell_type": "code",
   "execution_count": 19,
   "metadata": {},
   "outputs": [
    {
     "name": "stdout",
     "output_type": "stream",
     "text": [
      "('파이썬', 64)\n",
      "('알고리즘', 80)\n",
      "('인공지능', 120)\n"
     ]
    }
   ],
   "source": [
    "for item in courses.items():\n",
    "    print(item)"
   ]
  },
  {
   "cell_type": "markdown",
   "metadata": {},
   "source": [
    "# 딕셔너리 활용 - in\n",
    "\n",
    "딕셔너리에 특정 키가 있는지 확인"
   ]
  },
  {
   "cell_type": "code",
   "execution_count": 20,
   "metadata": {},
   "outputs": [
    {
     "name": "stdout",
     "output_type": "stream",
     "text": [
      "없다\n"
     ]
    }
   ],
   "source": [
    "if '키4' in dict_ex :\n",
    "    print('있다')\n",
    "else:\n",
    "    print('없다')"
   ]
  },
  {
   "cell_type": "markdown",
   "metadata": {},
   "source": [
    "# 문제\n",
    "만약에 courses 딕셔너리에 '파이썬' 이라는 키가 있으면 '있다' 라고 출력하고 없으면 '없다' 출력하는 프로그램"
   ]
  },
  {
   "cell_type": "code",
   "execution_count": 22,
   "metadata": {},
   "outputs": [
    {
     "name": "stdout",
     "output_type": "stream",
     "text": [
      "있다\n"
     ]
    }
   ],
   "source": [
    "if '파이썬' in courses :\n",
    "    print('있다')\n",
    "else:\n",
    "    print('없다')"
   ]
  }
 ],
 "metadata": {
  "kernelspec": {
   "display_name": "Python 3 (ipykernel)",
   "language": "python",
   "name": "python3"
  },
  "language_info": {
   "codemirror_mode": {
    "name": "ipython",
    "version": 3
   },
   "file_extension": ".py",
   "mimetype": "text/x-python",
   "name": "python",
   "nbconvert_exporter": "python",
   "pygments_lexer": "ipython3",
   "version": "3.9.13"
  }
 },
 "nbformat": 4,
 "nbformat_minor": 4
}
