{
 "cells": [
  {
   "cell_type": "code",
   "execution_count": 5,
   "metadata": {},
   "outputs": [],
   "source": [
    "olympic = {\n",
    "    '박지수':'농구', \n",
    "    '안혜지':'농구', \n",
    "    '신지현':'농구', \n",
    "    '김영남':'수영', \n",
    "    '이성배':'럭비', \n",
    "    '장용흥':'럭비'\n",
    "}"
   ]
  },
  {
   "cell_type": "code",
   "execution_count": 6,
   "metadata": {},
   "outputs": [
    {
     "name": "stdout",
     "output_type": "stream",
     "text": [
      "{'박지수': '농구', '안혜지': '농구', '신지현': '농구', '김영남': '수영', '이성배': '럭비', '장용흥': '럭비'}\n"
     ]
    }
   ],
   "source": [
    "print(olympic)"
   ]
  },
  {
   "cell_type": "markdown",
   "metadata": {},
   "source": [
    "# 문제\n",
    "선수들의 이름만 출력"
   ]
  },
  {
   "cell_type": "code",
   "execution_count": 7,
   "metadata": {},
   "outputs": [
    {
     "name": "stdout",
     "output_type": "stream",
     "text": [
      "박지수\n",
      "안혜지\n",
      "신지현\n",
      "김영남\n",
      "이성배\n",
      "장용흥\n"
     ]
    }
   ],
   "source": [
    "for name in olympic.keys():\n",
    "    print(name)"
   ]
  },
  {
   "cell_type": "markdown",
   "metadata": {},
   "source": [
    "# 문제\n",
    "선수들의 이름만 접근하면서 만약에 이름이 '신지현' 이면 해당 선수의 종목을 출력"
   ]
  },
  {
   "cell_type": "code",
   "execution_count": 11,
   "metadata": {},
   "outputs": [
    {
     "name": "stdout",
     "output_type": "stream",
     "text": [
      "농구\n"
     ]
    }
   ],
   "source": [
    "for name in olympic.keys():\n",
    "    if name=='신지현':\n",
    "        print(olympic[name])"
   ]
  },
  {
   "cell_type": "markdown",
   "metadata": {},
   "source": [
    "# 문제\n",
    "선수들의 종목만 출력"
   ]
  },
  {
   "cell_type": "code",
   "execution_count": 12,
   "metadata": {},
   "outputs": [
    {
     "name": "stdout",
     "output_type": "stream",
     "text": [
      "농구\n",
      "농구\n",
      "농구\n",
      "수영\n",
      "럭비\n",
      "럭비\n"
     ]
    }
   ],
   "source": [
    "for athletic in olympic.values():\n",
    "    print(athletic)"
   ]
  },
  {
   "cell_type": "markdown",
   "metadata": {},
   "source": [
    "# 문제\n",
    " 선수들의 종목만 접근하면서 만약에 종목이 '농구' 이면 해당 선수의 이름을 출력"
   ]
  },
  {
   "cell_type": "code",
   "execution_count": 18,
   "metadata": {},
   "outputs": [
    {
     "name": "stdout",
     "output_type": "stream",
     "text": [
      "박지수\n",
      "안혜지\n",
      "신지현\n"
     ]
    }
   ],
   "source": [
    "for name,athletic in olympic.items():\n",
    "    if athletic=='농구':\n",
    "        print(name)"
   ]
  }
 ],
 "metadata": {
  "kernelspec": {
   "display_name": "Python 3 (ipykernel)",
   "language": "python",
   "name": "python3"
  },
  "language_info": {
   "codemirror_mode": {
    "name": "ipython",
    "version": 3
   },
   "file_extension": ".py",
   "mimetype": "text/x-python",
   "name": "python",
   "nbconvert_exporter": "python",
   "pygments_lexer": "ipython3",
   "version": "3.9.13"
  }
 },
 "nbformat": 4,
 "nbformat_minor": 4
}
