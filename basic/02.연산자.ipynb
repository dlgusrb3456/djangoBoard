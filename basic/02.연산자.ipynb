{
 "cells": [
  {
   "cell_type": "markdown",
   "id": "0bf05fd2",
   "metadata": {},
   "source": [
    "## 연산자의 종류\n",
    "1. 산술 연산자\n",
    "\t      +, -, /, *, //, %, **, =\n",
    "\n",
    "2. 비교 연산자\n",
    "\t     == 같다,\t >= 왼쪽이 크거나 같다, \t\t<= 왼쪽이 작거나 같다, \t\t> 왼쪽이 크다, \t\t< 왼쪽이 작다, \t\t!= 같지 않다\n",
    "\t\t\t\t\t\t\n",
    "\n",
    "3. 논리 연산자\n",
    "\t       and(논리곱), or(논리합), not(부정)\n",
    "\n",
    "\n",
    "4. 비트 연산자\n",
    "\t      &, \t|,\t^, \t~, \t<<, \t>>\n",
    "\t      AND\tOR\tXOR\tNOT\tLSHIFT\tRSHIFT"
   ]
  },
  {
   "cell_type": "markdown",
   "id": "8abe19fb",
   "metadata": {},
   "source": [
    "## 산술 연산자"
   ]
  },
  {
   "cell_type": "code",
   "execution_count": 2,
   "id": "be55cbfe",
   "metadata": {},
   "outputs": [],
   "source": [
    "num1=10\n",
    "num2=20"
   ]
  },
  {
   "cell_type": "code",
   "execution_count": 6,
   "id": "c57718d0",
   "metadata": {
    "scrolled": true
   },
   "outputs": [
    {
     "name": "stdout",
     "output_type": "stream",
     "text": [
      "30\n"
     ]
    }
   ],
   "source": [
    "print(num1+num2)"
   ]
  },
  {
   "cell_type": "code",
   "execution_count": 8,
   "id": "f1b544b8",
   "metadata": {},
   "outputs": [
    {
     "name": "stdout",
     "output_type": "stream",
     "text": [
      "-10\n"
     ]
    }
   ],
   "source": [
    "print(num1-num2)"
   ]
  },
  {
   "cell_type": "code",
   "execution_count": 9,
   "id": "70be4422",
   "metadata": {},
   "outputs": [
    {
     "name": "stdout",
     "output_type": "stream",
     "text": [
      "200\n"
     ]
    }
   ],
   "source": [
    "print(num1*num2)"
   ]
  },
  {
   "cell_type": "code",
   "execution_count": 11,
   "id": "a089a6f3",
   "metadata": {},
   "outputs": [
    {
     "name": "stdout",
     "output_type": "stream",
     "text": [
      "0.5\n"
     ]
    }
   ],
   "source": [
    "print(num1/num2)"
   ]
  },
  {
   "cell_type": "code",
   "execution_count": 13,
   "id": "50ea30c0",
   "metadata": {},
   "outputs": [
    {
     "name": "stdout",
     "output_type": "stream",
     "text": [
      "0\n"
     ]
    }
   ],
   "source": [
    "print(num1//num2)"
   ]
  },
  {
   "cell_type": "code",
   "execution_count": 14,
   "id": "f7b67ec8",
   "metadata": {},
   "outputs": [
    {
     "name": "stdout",
     "output_type": "stream",
     "text": [
      "10\n"
     ]
    }
   ],
   "source": [
    "print(num1%num2)"
   ]
  },
  {
   "cell_type": "code",
   "execution_count": 16,
   "id": "5a8e7b75",
   "metadata": {},
   "outputs": [
    {
     "name": "stdout",
     "output_type": "stream",
     "text": [
      "100000000000000000000\n"
     ]
    }
   ],
   "source": [
    "print(num1**num2)"
   ]
  },
  {
   "cell_type": "code",
   "execution_count": 18,
   "id": "65469acb",
   "metadata": {},
   "outputs": [],
   "source": [
    "result=num1+num2"
   ]
  },
  {
   "cell_type": "code",
   "execution_count": 20,
   "id": "49b7fdff",
   "metadata": {},
   "outputs": [
    {
     "name": "stdout",
     "output_type": "stream",
     "text": [
      "30\n"
     ]
    }
   ],
   "source": [
    "print(result)"
   ]
  },
  {
   "cell_type": "markdown",
   "id": "3f8bf899",
   "metadata": {},
   "source": [
    "## 비교 연산자"
   ]
  },
  {
   "cell_type": "code",
   "execution_count": 22,
   "id": "6e81cc8a",
   "metadata": {},
   "outputs": [
    {
     "name": "stdout",
     "output_type": "stream",
     "text": [
      "False\n"
     ]
    }
   ],
   "source": [
    "print(num1==num2)"
   ]
  },
  {
   "cell_type": "code",
   "execution_count": 23,
   "id": "f3f5d7f1",
   "metadata": {},
   "outputs": [
    {
     "name": "stdout",
     "output_type": "stream",
     "text": [
      "True\n"
     ]
    }
   ],
   "source": [
    "print(num1!=num2)"
   ]
  },
  {
   "cell_type": "code",
   "execution_count": 24,
   "id": "60427e9d",
   "metadata": {},
   "outputs": [
    {
     "name": "stdout",
     "output_type": "stream",
     "text": [
      "False\n"
     ]
    }
   ],
   "source": [
    "print(num1>=num2)"
   ]
  },
  {
   "cell_type": "code",
   "execution_count": 25,
   "id": "379aa7af",
   "metadata": {},
   "outputs": [
    {
     "name": "stdout",
     "output_type": "stream",
     "text": [
      "True\n"
     ]
    }
   ],
   "source": [
    "print(num1<=num2)"
   ]
  },
  {
   "cell_type": "code",
   "execution_count": 26,
   "id": "acf4d01c",
   "metadata": {},
   "outputs": [
    {
     "name": "stdout",
     "output_type": "stream",
     "text": [
      "False\n"
     ]
    }
   ],
   "source": [
    "print(num1>num2)"
   ]
  },
  {
   "cell_type": "code",
   "execution_count": 28,
   "id": "4e6be0b4",
   "metadata": {},
   "outputs": [
    {
     "name": "stdout",
     "output_type": "stream",
     "text": [
      "True\n"
     ]
    }
   ],
   "source": [
    "print(num1<num2)"
   ]
  },
  {
   "cell_type": "markdown",
   "id": "67da4dd9",
   "metadata": {},
   "source": [
    "# 문제\n",
    "\n",
    "    num1=358\n",
    "    num2=726\n",
    "\n",
    "\n",
    "    print(num1*num2+num1<num2+num1)"
   ]
  },
  {
   "cell_type": "code",
   "execution_count": 29,
   "id": "d0f95960",
   "metadata": {},
   "outputs": [
    {
     "name": "stdout",
     "output_type": "stream",
     "text": [
      "False\n"
     ]
    }
   ],
   "source": [
    "print(num1*num2+num1<num2+num1)"
   ]
  },
  {
   "cell_type": "code",
   "execution_count": null,
   "id": "ad5b19c9",
   "metadata": {},
   "outputs": [],
   "source": []
  },
  {
   "cell_type": "markdown",
   "id": "6e377aab",
   "metadata": {},
   "source": [
    "# 논리 연산자"
   ]
  },
  {
   "cell_type": "code",
   "execution_count": 30,
   "id": "99d6a10f",
   "metadata": {},
   "outputs": [],
   "source": [
    "bool1=True\n",
    "bool2=False"
   ]
  },
  {
   "cell_type": "code",
   "execution_count": 31,
   "id": "90ebfd6b",
   "metadata": {},
   "outputs": [
    {
     "name": "stdout",
     "output_type": "stream",
     "text": [
      "False\n"
     ]
    }
   ],
   "source": [
    "print(bool2 and bool2)"
   ]
  },
  {
   "cell_type": "code",
   "execution_count": 32,
   "id": "bc94c9b4",
   "metadata": {},
   "outputs": [
    {
     "name": "stdout",
     "output_type": "stream",
     "text": [
      "False\n"
     ]
    }
   ],
   "source": [
    "print(bool2 and bool1)"
   ]
  },
  {
   "cell_type": "code",
   "execution_count": 33,
   "id": "e596486d",
   "metadata": {},
   "outputs": [
    {
     "name": "stdout",
     "output_type": "stream",
     "text": [
      "False\n"
     ]
    }
   ],
   "source": [
    "print(bool1 and bool2)"
   ]
  },
  {
   "cell_type": "code",
   "execution_count": 34,
   "id": "99f3d5fd",
   "metadata": {},
   "outputs": [
    {
     "name": "stdout",
     "output_type": "stream",
     "text": [
      "True\n"
     ]
    }
   ],
   "source": [
    "print(bool1 and bool1)"
   ]
  },
  {
   "cell_type": "code",
   "execution_count": 35,
   "id": "2d1c4b77",
   "metadata": {},
   "outputs": [],
   "source": [
    "num1=10\n",
    "num2=20\n",
    "num3=30"
   ]
  },
  {
   "cell_type": "code",
   "execution_count": 36,
   "id": "2e6a9897",
   "metadata": {},
   "outputs": [
    {
     "name": "stdout",
     "output_type": "stream",
     "text": [
      "True\n"
     ]
    }
   ],
   "source": [
    "print(num1+num2==num3)"
   ]
  },
  {
   "cell_type": "code",
   "execution_count": 37,
   "id": "41dd862d",
   "metadata": {},
   "outputs": [
    {
     "name": "stdout",
     "output_type": "stream",
     "text": [
      "False\n"
     ]
    }
   ],
   "source": [
    "print(num2>num3)"
   ]
  },
  {
   "cell_type": "code",
   "execution_count": 38,
   "id": "27af346b",
   "metadata": {},
   "outputs": [
    {
     "name": "stdout",
     "output_type": "stream",
     "text": [
      "False\n"
     ]
    }
   ],
   "source": [
    "print(num1+num2==num3 and num2>num3)"
   ]
  },
  {
   "cell_type": "code",
   "execution_count": 40,
   "id": "f4227a86",
   "metadata": {},
   "outputs": [
    {
     "name": "stdout",
     "output_type": "stream",
     "text": [
      "True\n"
     ]
    }
   ],
   "source": [
    "print(num1+num2==num3 and num2<num3)"
   ]
  },
  {
   "cell_type": "code",
   "execution_count": 43,
   "id": "8863522a",
   "metadata": {},
   "outputs": [
    {
     "name": "stdout",
     "output_type": "stream",
     "text": [
      "False\n"
     ]
    }
   ],
   "source": [
    "print(bool2 or bool2)"
   ]
  },
  {
   "cell_type": "code",
   "execution_count": 45,
   "id": "469edb08",
   "metadata": {},
   "outputs": [
    {
     "name": "stdout",
     "output_type": "stream",
     "text": [
      "True\n"
     ]
    }
   ],
   "source": [
    "print(bool2 or bool1)"
   ]
  },
  {
   "cell_type": "code",
   "execution_count": 46,
   "id": "c6fdb06d",
   "metadata": {},
   "outputs": [
    {
     "name": "stdout",
     "output_type": "stream",
     "text": [
      "True\n"
     ]
    }
   ],
   "source": [
    "print(bool1 or bool2)"
   ]
  },
  {
   "cell_type": "code",
   "execution_count": 47,
   "id": "ce91ad50",
   "metadata": {},
   "outputs": [
    {
     "name": "stdout",
     "output_type": "stream",
     "text": [
      "True\n"
     ]
    }
   ],
   "source": [
    "print(bool1 or bool1)"
   ]
  },
  {
   "cell_type": "code",
   "execution_count": 48,
   "id": "b23f5e05",
   "metadata": {},
   "outputs": [
    {
     "name": "stdout",
     "output_type": "stream",
     "text": [
      "True\n"
     ]
    }
   ],
   "source": [
    "print(num1+num2==num3 or num2>num3)"
   ]
  },
  {
   "cell_type": "code",
   "execution_count": 49,
   "id": "1b23414c",
   "metadata": {},
   "outputs": [
    {
     "name": "stdout",
     "output_type": "stream",
     "text": [
      "False\n"
     ]
    }
   ],
   "source": [
    "print(not bool1)"
   ]
  },
  {
   "cell_type": "code",
   "execution_count": 50,
   "id": "2b1de220",
   "metadata": {},
   "outputs": [
    {
     "name": "stdout",
     "output_type": "stream",
     "text": [
      "True\n"
     ]
    }
   ],
   "source": [
    "print(not bool2)"
   ]
  }
 ],
 "metadata": {
  "kernelspec": {
   "display_name": "Python 3",
   "language": "python",
   "name": "python3"
  },
  "language_info": {
   "codemirror_mode": {
    "name": "ipython",
    "version": 3
   },
   "file_extension": ".py",
   "mimetype": "text/x-python",
   "name": "python",
   "nbconvert_exporter": "python",
   "pygments_lexer": "ipython3",
   "version": "3.8.8"
  }
 },
 "nbformat": 4,
 "nbformat_minor": 5
}
