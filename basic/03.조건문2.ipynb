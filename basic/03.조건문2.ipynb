{
 "cells": [
  {
   "cell_type": "markdown",
   "id": "4edbc37f",
   "metadata": {},
   "source": [
    "## if elif 문\n",
    "if문 elif문에서는 조건식을 여러개 사용하여 각 조건에 맞는 코드를 따로 실행시킬 수 있다."
   ]
  },
  {
   "cell_type": "code",
   "execution_count": 5,
   "id": "233e117b",
   "metadata": {},
   "outputs": [],
   "source": [
    "num1=80"
   ]
  },
  {
   "cell_type": "code",
   "execution_count": 6,
   "id": "0d3beb98",
   "metadata": {},
   "outputs": [
    {
     "name": "stdout",
     "output_type": "stream",
     "text": [
      "num1은 100보다 작습니다.\n"
     ]
    }
   ],
   "source": [
    "if num1>100 :\n",
    "    print(\"num1은 100보다 큽니다.\")\n",
    "elif num1==100 :\n",
    "    print(\"num1은 100입니다.\")\n",
    "else :\n",
    "    print(\"num1은 100보다 작습니다.\")"
   ]
  },
  {
   "cell_type": "markdown",
   "id": "9dd6c67b",
   "metadata": {},
   "source": [
    "# 문제\n",
    "\n",
    "계절을 입력 받으시오. (spring, summer, fall, winter 4가지 중 하나 입력)  \n",
    "\n",
    "만약에 입력받은 계절이 spring이랑 같으면 \"봄이 왔네요\"를 출력하시오.  \n",
    "그렇지 않고 만약에 계절이 summer이랑 같으면 \"겁나 더워요\"를 출력하시오.  \n",
    "그렇지 않고 만약에 계절이 fall이랑 같으면 \"선선하네요\"를 출력하시오.  \n",
    "그렇지 않으면 \"추워요\"를 출력하시오.  "
   ]
  },
  {
   "cell_type": "code",
   "execution_count": 9,
   "id": "91b7c13a",
   "metadata": {},
   "outputs": [
    {
     "name": "stdout",
     "output_type": "stream",
     "text": [
      "summer\n"
     ]
    }
   ],
   "source": [
    "season = input()"
   ]
  },
  {
   "cell_type": "code",
   "execution_count": 10,
   "id": "0df778f8",
   "metadata": {},
   "outputs": [
    {
     "name": "stdout",
     "output_type": "stream",
     "text": [
      "겁나 더워요.\n"
     ]
    }
   ],
   "source": [
    "if season == \"spring\" :\n",
    "    print(\"봄이 왔네요.\")\n",
    "elif season == \"summer\" :\n",
    "    print(\"겁나 더워요.\")\n",
    "elif season == \"fall\" :\n",
    "    print(\"선선하네요.\")\n",
    "else :\n",
    "    print(\"추워요.\")"
   ]
  },
  {
   "cell_type": "markdown",
   "id": "a155b007",
   "metadata": {},
   "source": [
    "# if문과 논리 연산\n",
    "\n",
    "~하고 (같고, 크고, 작고...) -> and  \n",
    "~하거나 (같거나, 크거나, 작거나...) -> or"
   ]
  },
  {
   "cell_type": "markdown",
   "id": "f7f07466",
   "metadata": {},
   "source": [
    "만약에 num1과 num2를 더한 값이 num3과 같고 num3이 num1보다 크면 \"참\"을 출력"
   ]
  },
  {
   "cell_type": "code",
   "execution_count": 11,
   "id": "38bccc57",
   "metadata": {},
   "outputs": [],
   "source": [
    "num1=10\n",
    "num2=20\n",
    "num3=30"
   ]
  },
  {
   "cell_type": "code",
   "execution_count": 12,
   "id": "4013a98d",
   "metadata": {},
   "outputs": [
    {
     "name": "stdout",
     "output_type": "stream",
     "text": [
      "참\n"
     ]
    }
   ],
   "source": [
    "if num1+num2 == num3 and num3 > num1 :\n",
    "    print(\"참\")"
   ]
  },
  {
   "cell_type": "markdown",
   "id": "1f48a0ce",
   "metadata": {},
   "source": [
    "# 문제\n",
    "\n",
    "힌트 : 크거나 같으면   >=\n",
    "\n",
    "성적을 입력받는다.\n",
    "\n",
    "만약에 성적이 100보다 크거나 0보다 작으면 \"0~100까지만 입력할 수 있습니다.\"를 출력한다.  \n",
    "그렇지 않고 만약에 성적이 100 이면 \"A+\"를 출력한다.  \n",
    "그렇지 않고 만약에 성적이 100 보다 작고 90보다 크거나 같으면 \"A\"를 출력한다.  \n",
    "그렇지 않고 만약에 성적이 90 보다 작고 80보다 크거나 같으면 \"B\"를 출력한다.  \n",
    "그렇지 않고 만약에 성적이 80 보다 작고 70보다 크거나 같으면 \"C\"를 출력한다.  \n",
    "그렇지 않고 만약에 성적이 70 보다 작고 60보다 크거나 같으면 \"D\"를 출력한다.  \n",
    "그렇지 않으면 \"F\"를 출력한다.\n"
   ]
  },
  {
   "cell_type": "code",
   "execution_count": 23,
   "id": "a7d0ccc0",
   "metadata": {},
   "outputs": [
    {
     "name": "stdout",
     "output_type": "stream",
     "text": [
      "78\n"
     ]
    }
   ],
   "source": [
    "score=input()\n",
    "score=int(score)"
   ]
  },
  {
   "cell_type": "code",
   "execution_count": 24,
   "id": "e4e163fa",
   "metadata": {},
   "outputs": [
    {
     "name": "stdout",
     "output_type": "stream",
     "text": [
      "C\n"
     ]
    }
   ],
   "source": [
    "if score > 100 or score < 0 :\n",
    "    print(\"0~100까지만 입력할 수 있습니다.\")\n",
    "elif score == 100:\n",
    "    print(\"A+\")\n",
    "elif score < 100 and score >= 90 :\n",
    "    print(\"A\")\n",
    "elif score < 90 and score >= 80 :\n",
    "    print(\"B\")\n",
    "elif score < 80 and score >= 70 :\n",
    "    print(\"C\")\n",
    "elif score < 70 and score >= 60 :\n",
    "    print(\"D\")\n",
    "else :\n",
    "    print(\"F\")"
   ]
  }
 ],
 "metadata": {
  "kernelspec": {
   "display_name": "Python 3",
   "language": "python",
   "name": "python3"
  },
  "language_info": {
   "codemirror_mode": {
    "name": "ipython",
    "version": 3
   },
   "file_extension": ".py",
   "mimetype": "text/x-python",
   "name": "python",
   "nbconvert_exporter": "python",
   "pygments_lexer": "ipython3",
   "version": "3.8.8"
  }
 },
 "nbformat": 4,
 "nbformat_minor": 5
}
