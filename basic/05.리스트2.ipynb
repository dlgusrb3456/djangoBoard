{
 "cells": [
  {
   "cell_type": "markdown",
   "id": "db30caa4",
   "metadata": {},
   "source": [
    "# 리스트 활용 - 조건문\n",
    "\n",
    "리스트의 특정 값이 들어있나 들어있지 않나 확인하는 방법\n",
    "\n",
    "만약에 리스트 안에 특정값이 있으면 실행\n",
    "\n",
    "if 특정값 in 리스트 :  \n",
    "&nbsp;&nbsp;&nbsp;&nbsp;코드실행\n"
   ]
  },
  {
   "cell_type": "code",
   "execution_count": 1,
   "id": "51bee6c8",
   "metadata": {},
   "outputs": [],
   "source": [
    "list1 = ['apple', 'banana', 'kiwi']"
   ]
  },
  {
   "cell_type": "code",
   "execution_count": 3,
   "id": "3849e95e",
   "metadata": {},
   "outputs": [
    {
     "name": "stdout",
     "output_type": "stream",
     "text": [
      "리스트에는 apple이 있어요.\n"
     ]
    }
   ],
   "source": [
    "if 'apple' in list1 :\n",
    "    print(\"리스트에는 apple이 있어요.\")"
   ]
  },
  {
   "cell_type": "code",
   "execution_count": 4,
   "id": "974e28c4",
   "metadata": {},
   "outputs": [],
   "source": [
    "if 'melon' in list1 :\n",
    "    print(\"리스트에는 melon이 있어요.\")"
   ]
  },
  {
   "cell_type": "markdown",
   "id": "a7c0a4d9",
   "metadata": {},
   "source": [
    "# 리스트 활용 - 반복문\n",
    "\n",
    "리스트의 값을 하나씩 꺼내면서 반복하는 반복문\n",
    "\n",
    "for 변수 in 리스트 :  \n",
    "&nbsp;&nbsp;&nbsp;&nbsp;코드실행\n"
   ]
  },
  {
   "cell_type": "code",
   "execution_count": 6,
   "id": "50cbf998",
   "metadata": {},
   "outputs": [
    {
     "name": "stdout",
     "output_type": "stream",
     "text": [
      "apple\n",
      "banana\n",
      "kiwi\n"
     ]
    }
   ],
   "source": [
    "fruits = ['apple', 'banana', 'kiwi']\n",
    "for fruit in fruits :\n",
    "    print(fruit)"
   ]
  },
  {
   "cell_type": "code",
   "execution_count": 9,
   "id": "aded0c84",
   "metadata": {},
   "outputs": [
    {
     "name": "stdout",
     "output_type": "stream",
     "text": [
      "0\n",
      "apple\n",
      "1\n",
      "banana\n",
      "2\n",
      "kiwi\n"
     ]
    }
   ],
   "source": [
    "for i in range(0,len(fruits)) :\n",
    "    print(i)\n",
    "    print(fruits[i])"
   ]
  },
  {
   "cell_type": "markdown",
   "id": "e0180465",
   "metadata": {},
   "source": [
    "# 리스트의 길이 확인\n",
    "\n",
    "len(리스트)"
   ]
  },
  {
   "cell_type": "code",
   "execution_count": 7,
   "id": "3b8ec1e6",
   "metadata": {},
   "outputs": [
    {
     "data": {
      "text/plain": [
       "3"
      ]
     },
     "execution_count": 7,
     "metadata": {},
     "output_type": "execute_result"
    }
   ],
   "source": [
    "len(fruits)"
   ]
  }
 ],
 "metadata": {
  "kernelspec": {
   "display_name": "Python 3",
   "language": "python",
   "name": "python3"
  },
  "language_info": {
   "codemirror_mode": {
    "name": "ipython",
    "version": 3
   },
   "file_extension": ".py",
   "mimetype": "text/x-python",
   "name": "python",
   "nbconvert_exporter": "python",
   "pygments_lexer": "ipython3",
   "version": "3.8.8"
  }
 },
 "nbformat": 4,
 "nbformat_minor": 5
}
